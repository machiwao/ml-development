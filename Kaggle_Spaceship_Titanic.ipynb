{
  "nbformat": 4,
  "nbformat_minor": 0,
  "metadata": {
    "colab": {
      "provenance": [],
      "authorship_tag": "ABX9TyORkqFuteTJtydy8YxSe4VS",
      "include_colab_link": true
    },
    "kernelspec": {
      "name": "python3",
      "display_name": "Python 3"
    },
    "language_info": {
      "name": "python"
    }
  },
  "cells": [
    {
      "cell_type": "markdown",
      "metadata": {
        "id": "view-in-github",
        "colab_type": "text"
      },
      "source": [
        "<a href=\"https://colab.research.google.com/github/machiwao/ml-development/blob/main/Kaggle_Spaceship_Titanic.ipynb\" target=\"_parent\"><img src=\"https://colab.research.google.com/assets/colab-badge.svg\" alt=\"Open In Colab\"/></a>"
      ]
    },
    {
      "cell_type": "markdown",
      "source": [
        "# Spaceship Titanic\n",
        "Reference: https://www.kaggle.com/competitions/spaceship-titanic/overview\n"
      ],
      "metadata": {
        "id": "klH21GZJ_HgA"
      }
    },
    {
      "cell_type": "markdown",
      "source": [
        "## Data Loading"
      ],
      "metadata": {
        "id": "cjY-H-8n_OdT"
      }
    },
    {
      "cell_type": "code",
      "execution_count": null,
      "metadata": {
        "id": "ItWOE6Mh-2Ol"
      },
      "outputs": [],
      "source": []
    },
    {
      "cell_type": "markdown",
      "source": [
        "## Initial Data Visualization"
      ],
      "metadata": {
        "id": "dVil4n6c_mYy"
      }
    },
    {
      "cell_type": "code",
      "source": [],
      "metadata": {
        "id": "5H_NsgV__mEW"
      },
      "execution_count": null,
      "outputs": []
    },
    {
      "cell_type": "markdown",
      "source": [
        "## Feature Engineering"
      ],
      "metadata": {
        "id": "gGrM6xUT_Q1y"
      }
    },
    {
      "cell_type": "code",
      "source": [],
      "metadata": {
        "id": "uN510tK-_aKa"
      },
      "execution_count": null,
      "outputs": []
    },
    {
      "cell_type": "markdown",
      "source": [
        "### Handling Missing Values"
      ],
      "metadata": {
        "id": "tisL0oYN_a1u"
      }
    },
    {
      "cell_type": "code",
      "source": [],
      "metadata": {
        "id": "0taiuKsb_q3o"
      },
      "execution_count": null,
      "outputs": []
    },
    {
      "cell_type": "markdown",
      "source": [
        "## Final Data Visualization"
      ],
      "metadata": {
        "id": "qJsAV7ei_rh0"
      }
    },
    {
      "cell_type": "code",
      "source": [],
      "metadata": {
        "id": "Z7dCrzX-_tbF"
      },
      "execution_count": null,
      "outputs": []
    },
    {
      "cell_type": "markdown",
      "source": [
        "## Data Preparation"
      ],
      "metadata": {
        "id": "DrzrWHD1_ua6"
      }
    },
    {
      "cell_type": "code",
      "source": [],
      "metadata": {
        "id": "fXW-LrbM_yJx"
      },
      "execution_count": null,
      "outputs": []
    },
    {
      "cell_type": "markdown",
      "source": [
        "## Model Training"
      ],
      "metadata": {
        "id": "7fjoXEiT_yhk"
      }
    },
    {
      "cell_type": "code",
      "source": [],
      "metadata": {
        "id": "QD02VZ9v_0OF"
      },
      "execution_count": null,
      "outputs": []
    },
    {
      "cell_type": "markdown",
      "source": [
        "## Model Testing and Metrics"
      ],
      "metadata": {
        "id": "s4Csm6FR_0kv"
      }
    },
    {
      "cell_type": "code",
      "source": [],
      "metadata": {
        "id": "KJ2doqRT_2ku"
      },
      "execution_count": null,
      "outputs": []
    }
  ]
}