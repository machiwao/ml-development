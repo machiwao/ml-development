{
  "nbformat": 4,
  "nbformat_minor": 0,
  "metadata": {
    "colab": {
      "provenance": []
    },
    "kernelspec": {
      "name": "python3",
      "display_name": "Python 3"
    },
    "language_info": {
      "name": "python"
    }
  },
  "cells": [
    {
      "cell_type": "markdown",
      "source": [
        "# Stars Classification"
      ],
      "metadata": {
        "id": "OvRT5evYaUHI"
      }
    },
    {
      "cell_type": "code",
      "execution_count": 137,
      "metadata": {
        "id": "uyd9FwqIaPBR"
      },
      "outputs": [],
      "source": [
        "import pandas as pd\n",
        "import numpy as np\n",
        "import matplotlib.pyplot as plt\n",
        "import seaborn as sns\n",
        "\n",
        "import sklearn\n",
        "from sklearn.model_selection import train_test_split\n",
        "from sklearn.preprocessing import StandardScaler\n",
        "from sklearn.neighbors import KNeighborsClassifier\n",
        "from sklearn.metrics import classification_report, confusion_matrix"
      ]
    },
    {
      "cell_type": "markdown",
      "source": [
        "## Load Dataset"
      ],
      "metadata": {
        "id": "Q9dekHtwa543"
      }
    },
    {
      "cell_type": "code",
      "source": [
        "df = pd.read_csv('https://github.com/YBIFoundation/Dataset/raw/main/Stars.csv')\n",
        "df.head()"
      ],
      "metadata": {
        "colab": {
          "base_uri": "https://localhost:8080/",
          "height": 206
        },
        "id": "2I5RkNiia41f",
        "outputId": "8de7ff4d-920f-4de2-8f92-e91acfdb60f3"
      },
      "execution_count": 138,
      "outputs": [
        {
          "output_type": "execute_result",
          "data": {
            "text/plain": [
              "   Temperature (K)  Luminosity (L/Lo)  Radius (R/Ro)  Absolute magnitude (Mv)  \\\n",
              "0             3068           0.002400         0.1700                    16.12   \n",
              "1             3042           0.000500         0.1542                    16.60   \n",
              "2             2600           0.000300         0.1020                    18.70   \n",
              "3             2800           0.000200         0.1600                    16.65   \n",
              "4             1939           0.000138         0.1030                    20.06   \n",
              "\n",
              "   Star type Star category Star color Spectral Class  \n",
              "0          0   Brown Dwarf        Red              M  \n",
              "1          0   Brown Dwarf        Red              M  \n",
              "2          0   Brown Dwarf        Red              M  \n",
              "3          0   Brown Dwarf        Red              M  \n",
              "4          0   Brown Dwarf        Red              M  "
            ],
            "text/html": [
              "\n",
              "  <div id=\"df-2eec9353-ad63-4865-b01c-1cc0af1e05e1\" class=\"colab-df-container\">\n",
              "    <div>\n",
              "<style scoped>\n",
              "    .dataframe tbody tr th:only-of-type {\n",
              "        vertical-align: middle;\n",
              "    }\n",
              "\n",
              "    .dataframe tbody tr th {\n",
              "        vertical-align: top;\n",
              "    }\n",
              "\n",
              "    .dataframe thead th {\n",
              "        text-align: right;\n",
              "    }\n",
              "</style>\n",
              "<table border=\"1\" class=\"dataframe\">\n",
              "  <thead>\n",
              "    <tr style=\"text-align: right;\">\n",
              "      <th></th>\n",
              "      <th>Temperature (K)</th>\n",
              "      <th>Luminosity (L/Lo)</th>\n",
              "      <th>Radius (R/Ro)</th>\n",
              "      <th>Absolute magnitude (Mv)</th>\n",
              "      <th>Star type</th>\n",
              "      <th>Star category</th>\n",
              "      <th>Star color</th>\n",
              "      <th>Spectral Class</th>\n",
              "    </tr>\n",
              "  </thead>\n",
              "  <tbody>\n",
              "    <tr>\n",
              "      <th>0</th>\n",
              "      <td>3068</td>\n",
              "      <td>0.002400</td>\n",
              "      <td>0.1700</td>\n",
              "      <td>16.12</td>\n",
              "      <td>0</td>\n",
              "      <td>Brown Dwarf</td>\n",
              "      <td>Red</td>\n",
              "      <td>M</td>\n",
              "    </tr>\n",
              "    <tr>\n",
              "      <th>1</th>\n",
              "      <td>3042</td>\n",
              "      <td>0.000500</td>\n",
              "      <td>0.1542</td>\n",
              "      <td>16.60</td>\n",
              "      <td>0</td>\n",
              "      <td>Brown Dwarf</td>\n",
              "      <td>Red</td>\n",
              "      <td>M</td>\n",
              "    </tr>\n",
              "    <tr>\n",
              "      <th>2</th>\n",
              "      <td>2600</td>\n",
              "      <td>0.000300</td>\n",
              "      <td>0.1020</td>\n",
              "      <td>18.70</td>\n",
              "      <td>0</td>\n",
              "      <td>Brown Dwarf</td>\n",
              "      <td>Red</td>\n",
              "      <td>M</td>\n",
              "    </tr>\n",
              "    <tr>\n",
              "      <th>3</th>\n",
              "      <td>2800</td>\n",
              "      <td>0.000200</td>\n",
              "      <td>0.1600</td>\n",
              "      <td>16.65</td>\n",
              "      <td>0</td>\n",
              "      <td>Brown Dwarf</td>\n",
              "      <td>Red</td>\n",
              "      <td>M</td>\n",
              "    </tr>\n",
              "    <tr>\n",
              "      <th>4</th>\n",
              "      <td>1939</td>\n",
              "      <td>0.000138</td>\n",
              "      <td>0.1030</td>\n",
              "      <td>20.06</td>\n",
              "      <td>0</td>\n",
              "      <td>Brown Dwarf</td>\n",
              "      <td>Red</td>\n",
              "      <td>M</td>\n",
              "    </tr>\n",
              "  </tbody>\n",
              "</table>\n",
              "</div>\n",
              "    <div class=\"colab-df-buttons\">\n",
              "\n",
              "  <div class=\"colab-df-container\">\n",
              "    <button class=\"colab-df-convert\" onclick=\"convertToInteractive('df-2eec9353-ad63-4865-b01c-1cc0af1e05e1')\"\n",
              "            title=\"Convert this dataframe to an interactive table.\"\n",
              "            style=\"display:none;\">\n",
              "\n",
              "  <svg xmlns=\"http://www.w3.org/2000/svg\" height=\"24px\" viewBox=\"0 -960 960 960\">\n",
              "    <path d=\"M120-120v-720h720v720H120Zm60-500h600v-160H180v160Zm220 220h160v-160H400v160Zm0 220h160v-160H400v160ZM180-400h160v-160H180v160Zm440 0h160v-160H620v160ZM180-180h160v-160H180v160Zm440 0h160v-160H620v160Z\"/>\n",
              "  </svg>\n",
              "    </button>\n",
              "\n",
              "  <style>\n",
              "    .colab-df-container {\n",
              "      display:flex;\n",
              "      gap: 12px;\n",
              "    }\n",
              "\n",
              "    .colab-df-convert {\n",
              "      background-color: #E8F0FE;\n",
              "      border: none;\n",
              "      border-radius: 50%;\n",
              "      cursor: pointer;\n",
              "      display: none;\n",
              "      fill: #1967D2;\n",
              "      height: 32px;\n",
              "      padding: 0 0 0 0;\n",
              "      width: 32px;\n",
              "    }\n",
              "\n",
              "    .colab-df-convert:hover {\n",
              "      background-color: #E2EBFA;\n",
              "      box-shadow: 0px 1px 2px rgba(60, 64, 67, 0.3), 0px 1px 3px 1px rgba(60, 64, 67, 0.15);\n",
              "      fill: #174EA6;\n",
              "    }\n",
              "\n",
              "    .colab-df-buttons div {\n",
              "      margin-bottom: 4px;\n",
              "    }\n",
              "\n",
              "    [theme=dark] .colab-df-convert {\n",
              "      background-color: #3B4455;\n",
              "      fill: #D2E3FC;\n",
              "    }\n",
              "\n",
              "    [theme=dark] .colab-df-convert:hover {\n",
              "      background-color: #434B5C;\n",
              "      box-shadow: 0px 1px 3px 1px rgba(0, 0, 0, 0.15);\n",
              "      filter: drop-shadow(0px 1px 2px rgba(0, 0, 0, 0.3));\n",
              "      fill: #FFFFFF;\n",
              "    }\n",
              "  </style>\n",
              "\n",
              "    <script>\n",
              "      const buttonEl =\n",
              "        document.querySelector('#df-2eec9353-ad63-4865-b01c-1cc0af1e05e1 button.colab-df-convert');\n",
              "      buttonEl.style.display =\n",
              "        google.colab.kernel.accessAllowed ? 'block' : 'none';\n",
              "\n",
              "      async function convertToInteractive(key) {\n",
              "        const element = document.querySelector('#df-2eec9353-ad63-4865-b01c-1cc0af1e05e1');\n",
              "        const dataTable =\n",
              "          await google.colab.kernel.invokeFunction('convertToInteractive',\n",
              "                                                    [key], {});\n",
              "        if (!dataTable) return;\n",
              "\n",
              "        const docLinkHtml = 'Like what you see? Visit the ' +\n",
              "          '<a target=\"_blank\" href=https://colab.research.google.com/notebooks/data_table.ipynb>data table notebook</a>'\n",
              "          + ' to learn more about interactive tables.';\n",
              "        element.innerHTML = '';\n",
              "        dataTable['output_type'] = 'display_data';\n",
              "        await google.colab.output.renderOutput(dataTable, element);\n",
              "        const docLink = document.createElement('div');\n",
              "        docLink.innerHTML = docLinkHtml;\n",
              "        element.appendChild(docLink);\n",
              "      }\n",
              "    </script>\n",
              "  </div>\n",
              "\n",
              "\n",
              "<div id=\"df-e809e39e-9ea1-4164-9e4d-746ac546bca7\">\n",
              "  <button class=\"colab-df-quickchart\" onclick=\"quickchart('df-e809e39e-9ea1-4164-9e4d-746ac546bca7')\"\n",
              "            title=\"Suggest charts\"\n",
              "            style=\"display:none;\">\n",
              "\n",
              "<svg xmlns=\"http://www.w3.org/2000/svg\" height=\"24px\"viewBox=\"0 0 24 24\"\n",
              "     width=\"24px\">\n",
              "    <g>\n",
              "        <path d=\"M19 3H5c-1.1 0-2 .9-2 2v14c0 1.1.9 2 2 2h14c1.1 0 2-.9 2-2V5c0-1.1-.9-2-2-2zM9 17H7v-7h2v7zm4 0h-2V7h2v10zm4 0h-2v-4h2v4z\"/>\n",
              "    </g>\n",
              "</svg>\n",
              "  </button>\n",
              "\n",
              "<style>\n",
              "  .colab-df-quickchart {\n",
              "      --bg-color: #E8F0FE;\n",
              "      --fill-color: #1967D2;\n",
              "      --hover-bg-color: #E2EBFA;\n",
              "      --hover-fill-color: #174EA6;\n",
              "      --disabled-fill-color: #AAA;\n",
              "      --disabled-bg-color: #DDD;\n",
              "  }\n",
              "\n",
              "  [theme=dark] .colab-df-quickchart {\n",
              "      --bg-color: #3B4455;\n",
              "      --fill-color: #D2E3FC;\n",
              "      --hover-bg-color: #434B5C;\n",
              "      --hover-fill-color: #FFFFFF;\n",
              "      --disabled-bg-color: #3B4455;\n",
              "      --disabled-fill-color: #666;\n",
              "  }\n",
              "\n",
              "  .colab-df-quickchart {\n",
              "    background-color: var(--bg-color);\n",
              "    border: none;\n",
              "    border-radius: 50%;\n",
              "    cursor: pointer;\n",
              "    display: none;\n",
              "    fill: var(--fill-color);\n",
              "    height: 32px;\n",
              "    padding: 0;\n",
              "    width: 32px;\n",
              "  }\n",
              "\n",
              "  .colab-df-quickchart:hover {\n",
              "    background-color: var(--hover-bg-color);\n",
              "    box-shadow: 0 1px 2px rgba(60, 64, 67, 0.3), 0 1px 3px 1px rgba(60, 64, 67, 0.15);\n",
              "    fill: var(--button-hover-fill-color);\n",
              "  }\n",
              "\n",
              "  .colab-df-quickchart-complete:disabled,\n",
              "  .colab-df-quickchart-complete:disabled:hover {\n",
              "    background-color: var(--disabled-bg-color);\n",
              "    fill: var(--disabled-fill-color);\n",
              "    box-shadow: none;\n",
              "  }\n",
              "\n",
              "  .colab-df-spinner {\n",
              "    border: 2px solid var(--fill-color);\n",
              "    border-color: transparent;\n",
              "    border-bottom-color: var(--fill-color);\n",
              "    animation:\n",
              "      spin 1s steps(1) infinite;\n",
              "  }\n",
              "\n",
              "  @keyframes spin {\n",
              "    0% {\n",
              "      border-color: transparent;\n",
              "      border-bottom-color: var(--fill-color);\n",
              "      border-left-color: var(--fill-color);\n",
              "    }\n",
              "    20% {\n",
              "      border-color: transparent;\n",
              "      border-left-color: var(--fill-color);\n",
              "      border-top-color: var(--fill-color);\n",
              "    }\n",
              "    30% {\n",
              "      border-color: transparent;\n",
              "      border-left-color: var(--fill-color);\n",
              "      border-top-color: var(--fill-color);\n",
              "      border-right-color: var(--fill-color);\n",
              "    }\n",
              "    40% {\n",
              "      border-color: transparent;\n",
              "      border-right-color: var(--fill-color);\n",
              "      border-top-color: var(--fill-color);\n",
              "    }\n",
              "    60% {\n",
              "      border-color: transparent;\n",
              "      border-right-color: var(--fill-color);\n",
              "    }\n",
              "    80% {\n",
              "      border-color: transparent;\n",
              "      border-right-color: var(--fill-color);\n",
              "      border-bottom-color: var(--fill-color);\n",
              "    }\n",
              "    90% {\n",
              "      border-color: transparent;\n",
              "      border-bottom-color: var(--fill-color);\n",
              "    }\n",
              "  }\n",
              "</style>\n",
              "\n",
              "  <script>\n",
              "    async function quickchart(key) {\n",
              "      const quickchartButtonEl =\n",
              "        document.querySelector('#' + key + ' button');\n",
              "      quickchartButtonEl.disabled = true;  // To prevent multiple clicks.\n",
              "      quickchartButtonEl.classList.add('colab-df-spinner');\n",
              "      try {\n",
              "        const charts = await google.colab.kernel.invokeFunction(\n",
              "            'suggestCharts', [key], {});\n",
              "      } catch (error) {\n",
              "        console.error('Error during call to suggestCharts:', error);\n",
              "      }\n",
              "      quickchartButtonEl.classList.remove('colab-df-spinner');\n",
              "      quickchartButtonEl.classList.add('colab-df-quickchart-complete');\n",
              "    }\n",
              "    (() => {\n",
              "      let quickchartButtonEl =\n",
              "        document.querySelector('#df-e809e39e-9ea1-4164-9e4d-746ac546bca7 button');\n",
              "      quickchartButtonEl.style.display =\n",
              "        google.colab.kernel.accessAllowed ? 'block' : 'none';\n",
              "    })();\n",
              "  </script>\n",
              "</div>\n",
              "\n",
              "    </div>\n",
              "  </div>\n"
            ],
            "application/vnd.google.colaboratory.intrinsic+json": {
              "type": "dataframe",
              "variable_name": "df",
              "summary": "{\n  \"name\": \"df\",\n  \"rows\": 240,\n  \"fields\": [\n    {\n      \"column\": \"Temperature (K)\",\n      \"properties\": {\n        \"dtype\": \"number\",\n        \"std\": 9552,\n        \"min\": 1939,\n        \"max\": 40000,\n        \"num_unique_values\": 228,\n        \"samples\": [\n          10930,\n          3345,\n          3600\n        ],\n        \"semantic_type\": \"\",\n        \"description\": \"\"\n      }\n    },\n    {\n      \"column\": \"Luminosity (L/Lo)\",\n      \"properties\": {\n        \"dtype\": \"number\",\n        \"std\": 179432.2449402145,\n        \"min\": 8e-05,\n        \"max\": 849420.0,\n        \"num_unique_values\": 208,\n        \"samples\": [\n          0.000957,\n          0.0018,\n          0.00135\n        ],\n        \"semantic_type\": \"\",\n        \"description\": \"\"\n      }\n    },\n    {\n      \"column\": \"Radius (R/Ro)\",\n      \"properties\": {\n        \"dtype\": \"number\",\n        \"std\": 517.1557634028478,\n        \"min\": 0.0084,\n        \"max\": 1948.5,\n        \"num_unique_values\": 216,\n        \"samples\": [\n          81.0,\n          1423.0,\n          5.92\n        ],\n        \"semantic_type\": \"\",\n        \"description\": \"\"\n      }\n    },\n    {\n      \"column\": \"Absolute magnitude (Mv)\",\n      \"properties\": {\n        \"dtype\": \"number\",\n        \"std\": 10.53251235061617,\n        \"min\": -11.92,\n        \"max\": 20.06,\n        \"num_unique_values\": 228,\n        \"samples\": [\n          -6.224,\n          18.34,\n          16.05\n        ],\n        \"semantic_type\": \"\",\n        \"description\": \"\"\n      }\n    },\n    {\n      \"column\": \"Star type\",\n      \"properties\": {\n        \"dtype\": \"number\",\n        \"std\": 1,\n        \"min\": 0,\n        \"max\": 5,\n        \"num_unique_values\": 6,\n        \"samples\": [\n          0,\n          1,\n          5\n        ],\n        \"semantic_type\": \"\",\n        \"description\": \"\"\n      }\n    },\n    {\n      \"column\": \"Star category\",\n      \"properties\": {\n        \"dtype\": \"category\",\n        \"num_unique_values\": 6,\n        \"samples\": [\n          \"Brown Dwarf\",\n          \"Red Dwarf\",\n          \"Hypergiant\"\n        ],\n        \"semantic_type\": \"\",\n        \"description\": \"\"\n      }\n    },\n    {\n      \"column\": \"Star color\",\n      \"properties\": {\n        \"dtype\": \"category\",\n        \"num_unique_values\": 19,\n        \"samples\": [\n          \"Red\",\n          \"Pale yellow orange\",\n          \"White-Yellow\"\n        ],\n        \"semantic_type\": \"\",\n        \"description\": \"\"\n      }\n    },\n    {\n      \"column\": \"Spectral Class\",\n      \"properties\": {\n        \"dtype\": \"category\",\n        \"num_unique_values\": 7,\n        \"samples\": [\n          \"M\",\n          \"B\",\n          \"K\"\n        ],\n        \"semantic_type\": \"\",\n        \"description\": \"\"\n      }\n    }\n  ]\n}"
            }
          },
          "metadata": {},
          "execution_count": 138
        }
      ]
    },
    {
      "cell_type": "code",
      "source": [
        "df.info()"
      ],
      "metadata": {
        "colab": {
          "base_uri": "https://localhost:8080/"
        },
        "id": "uXgmQsU6bFbR",
        "outputId": "5ff72917-1cab-410f-913e-1f07a36b9c80"
      },
      "execution_count": 139,
      "outputs": [
        {
          "output_type": "stream",
          "name": "stdout",
          "text": [
            "<class 'pandas.core.frame.DataFrame'>\n",
            "RangeIndex: 240 entries, 0 to 239\n",
            "Data columns (total 8 columns):\n",
            " #   Column                   Non-Null Count  Dtype  \n",
            "---  ------                   --------------  -----  \n",
            " 0   Temperature (K)          240 non-null    int64  \n",
            " 1   Luminosity (L/Lo)        240 non-null    float64\n",
            " 2   Radius (R/Ro)            240 non-null    float64\n",
            " 3   Absolute magnitude (Mv)  240 non-null    float64\n",
            " 4   Star type                240 non-null    int64  \n",
            " 5   Star category            240 non-null    object \n",
            " 6   Star color               240 non-null    object \n",
            " 7   Spectral Class           240 non-null    object \n",
            "dtypes: float64(3), int64(2), object(3)\n",
            "memory usage: 15.1+ KB\n"
          ]
        }
      ]
    },
    {
      "cell_type": "code",
      "source": [
        "df.describe()"
      ],
      "metadata": {
        "colab": {
          "base_uri": "https://localhost:8080/",
          "height": 300
        },
        "id": "mIJvwLFebJTG",
        "outputId": "a04a2c17-1dde-4a34-9129-b5063043eaf3"
      },
      "execution_count": 140,
      "outputs": [
        {
          "output_type": "execute_result",
          "data": {
            "text/plain": [
              "       Temperature (K)  Luminosity (L/Lo)  Radius (R/Ro)  \\\n",
              "count       240.000000         240.000000     240.000000   \n",
              "mean      10497.462500      107188.361635     237.157781   \n",
              "std        9552.425037      179432.244940     517.155763   \n",
              "min        1939.000000           0.000080       0.008400   \n",
              "25%        3344.250000           0.000865       0.102750   \n",
              "50%        5776.000000           0.070500       0.762500   \n",
              "75%       15055.500000      198050.000000      42.750000   \n",
              "max       40000.000000      849420.000000    1948.500000   \n",
              "\n",
              "       Absolute magnitude (Mv)   Star type  \n",
              "count               240.000000  240.000000  \n",
              "mean                  4.382396    2.500000  \n",
              "std                  10.532512    1.711394  \n",
              "min                 -11.920000    0.000000  \n",
              "25%                  -6.232500    1.000000  \n",
              "50%                   8.313000    2.500000  \n",
              "75%                  13.697500    4.000000  \n",
              "max                  20.060000    5.000000  "
            ],
            "text/html": [
              "\n",
              "  <div id=\"df-8384611c-c568-4b82-b0f2-a635d6474ac8\" class=\"colab-df-container\">\n",
              "    <div>\n",
              "<style scoped>\n",
              "    .dataframe tbody tr th:only-of-type {\n",
              "        vertical-align: middle;\n",
              "    }\n",
              "\n",
              "    .dataframe tbody tr th {\n",
              "        vertical-align: top;\n",
              "    }\n",
              "\n",
              "    .dataframe thead th {\n",
              "        text-align: right;\n",
              "    }\n",
              "</style>\n",
              "<table border=\"1\" class=\"dataframe\">\n",
              "  <thead>\n",
              "    <tr style=\"text-align: right;\">\n",
              "      <th></th>\n",
              "      <th>Temperature (K)</th>\n",
              "      <th>Luminosity (L/Lo)</th>\n",
              "      <th>Radius (R/Ro)</th>\n",
              "      <th>Absolute magnitude (Mv)</th>\n",
              "      <th>Star type</th>\n",
              "    </tr>\n",
              "  </thead>\n",
              "  <tbody>\n",
              "    <tr>\n",
              "      <th>count</th>\n",
              "      <td>240.000000</td>\n",
              "      <td>240.000000</td>\n",
              "      <td>240.000000</td>\n",
              "      <td>240.000000</td>\n",
              "      <td>240.000000</td>\n",
              "    </tr>\n",
              "    <tr>\n",
              "      <th>mean</th>\n",
              "      <td>10497.462500</td>\n",
              "      <td>107188.361635</td>\n",
              "      <td>237.157781</td>\n",
              "      <td>4.382396</td>\n",
              "      <td>2.500000</td>\n",
              "    </tr>\n",
              "    <tr>\n",
              "      <th>std</th>\n",
              "      <td>9552.425037</td>\n",
              "      <td>179432.244940</td>\n",
              "      <td>517.155763</td>\n",
              "      <td>10.532512</td>\n",
              "      <td>1.711394</td>\n",
              "    </tr>\n",
              "    <tr>\n",
              "      <th>min</th>\n",
              "      <td>1939.000000</td>\n",
              "      <td>0.000080</td>\n",
              "      <td>0.008400</td>\n",
              "      <td>-11.920000</td>\n",
              "      <td>0.000000</td>\n",
              "    </tr>\n",
              "    <tr>\n",
              "      <th>25%</th>\n",
              "      <td>3344.250000</td>\n",
              "      <td>0.000865</td>\n",
              "      <td>0.102750</td>\n",
              "      <td>-6.232500</td>\n",
              "      <td>1.000000</td>\n",
              "    </tr>\n",
              "    <tr>\n",
              "      <th>50%</th>\n",
              "      <td>5776.000000</td>\n",
              "      <td>0.070500</td>\n",
              "      <td>0.762500</td>\n",
              "      <td>8.313000</td>\n",
              "      <td>2.500000</td>\n",
              "    </tr>\n",
              "    <tr>\n",
              "      <th>75%</th>\n",
              "      <td>15055.500000</td>\n",
              "      <td>198050.000000</td>\n",
              "      <td>42.750000</td>\n",
              "      <td>13.697500</td>\n",
              "      <td>4.000000</td>\n",
              "    </tr>\n",
              "    <tr>\n",
              "      <th>max</th>\n",
              "      <td>40000.000000</td>\n",
              "      <td>849420.000000</td>\n",
              "      <td>1948.500000</td>\n",
              "      <td>20.060000</td>\n",
              "      <td>5.000000</td>\n",
              "    </tr>\n",
              "  </tbody>\n",
              "</table>\n",
              "</div>\n",
              "    <div class=\"colab-df-buttons\">\n",
              "\n",
              "  <div class=\"colab-df-container\">\n",
              "    <button class=\"colab-df-convert\" onclick=\"convertToInteractive('df-8384611c-c568-4b82-b0f2-a635d6474ac8')\"\n",
              "            title=\"Convert this dataframe to an interactive table.\"\n",
              "            style=\"display:none;\">\n",
              "\n",
              "  <svg xmlns=\"http://www.w3.org/2000/svg\" height=\"24px\" viewBox=\"0 -960 960 960\">\n",
              "    <path d=\"M120-120v-720h720v720H120Zm60-500h600v-160H180v160Zm220 220h160v-160H400v160Zm0 220h160v-160H400v160ZM180-400h160v-160H180v160Zm440 0h160v-160H620v160ZM180-180h160v-160H180v160Zm440 0h160v-160H620v160Z\"/>\n",
              "  </svg>\n",
              "    </button>\n",
              "\n",
              "  <style>\n",
              "    .colab-df-container {\n",
              "      display:flex;\n",
              "      gap: 12px;\n",
              "    }\n",
              "\n",
              "    .colab-df-convert {\n",
              "      background-color: #E8F0FE;\n",
              "      border: none;\n",
              "      border-radius: 50%;\n",
              "      cursor: pointer;\n",
              "      display: none;\n",
              "      fill: #1967D2;\n",
              "      height: 32px;\n",
              "      padding: 0 0 0 0;\n",
              "      width: 32px;\n",
              "    }\n",
              "\n",
              "    .colab-df-convert:hover {\n",
              "      background-color: #E2EBFA;\n",
              "      box-shadow: 0px 1px 2px rgba(60, 64, 67, 0.3), 0px 1px 3px 1px rgba(60, 64, 67, 0.15);\n",
              "      fill: #174EA6;\n",
              "    }\n",
              "\n",
              "    .colab-df-buttons div {\n",
              "      margin-bottom: 4px;\n",
              "    }\n",
              "\n",
              "    [theme=dark] .colab-df-convert {\n",
              "      background-color: #3B4455;\n",
              "      fill: #D2E3FC;\n",
              "    }\n",
              "\n",
              "    [theme=dark] .colab-df-convert:hover {\n",
              "      background-color: #434B5C;\n",
              "      box-shadow: 0px 1px 3px 1px rgba(0, 0, 0, 0.15);\n",
              "      filter: drop-shadow(0px 1px 2px rgba(0, 0, 0, 0.3));\n",
              "      fill: #FFFFFF;\n",
              "    }\n",
              "  </style>\n",
              "\n",
              "    <script>\n",
              "      const buttonEl =\n",
              "        document.querySelector('#df-8384611c-c568-4b82-b0f2-a635d6474ac8 button.colab-df-convert');\n",
              "      buttonEl.style.display =\n",
              "        google.colab.kernel.accessAllowed ? 'block' : 'none';\n",
              "\n",
              "      async function convertToInteractive(key) {\n",
              "        const element = document.querySelector('#df-8384611c-c568-4b82-b0f2-a635d6474ac8');\n",
              "        const dataTable =\n",
              "          await google.colab.kernel.invokeFunction('convertToInteractive',\n",
              "                                                    [key], {});\n",
              "        if (!dataTable) return;\n",
              "\n",
              "        const docLinkHtml = 'Like what you see? Visit the ' +\n",
              "          '<a target=\"_blank\" href=https://colab.research.google.com/notebooks/data_table.ipynb>data table notebook</a>'\n",
              "          + ' to learn more about interactive tables.';\n",
              "        element.innerHTML = '';\n",
              "        dataTable['output_type'] = 'display_data';\n",
              "        await google.colab.output.renderOutput(dataTable, element);\n",
              "        const docLink = document.createElement('div');\n",
              "        docLink.innerHTML = docLinkHtml;\n",
              "        element.appendChild(docLink);\n",
              "      }\n",
              "    </script>\n",
              "  </div>\n",
              "\n",
              "\n",
              "<div id=\"df-d160ed2a-1192-47ab-857b-f963057a489b\">\n",
              "  <button class=\"colab-df-quickchart\" onclick=\"quickchart('df-d160ed2a-1192-47ab-857b-f963057a489b')\"\n",
              "            title=\"Suggest charts\"\n",
              "            style=\"display:none;\">\n",
              "\n",
              "<svg xmlns=\"http://www.w3.org/2000/svg\" height=\"24px\"viewBox=\"0 0 24 24\"\n",
              "     width=\"24px\">\n",
              "    <g>\n",
              "        <path d=\"M19 3H5c-1.1 0-2 .9-2 2v14c0 1.1.9 2 2 2h14c1.1 0 2-.9 2-2V5c0-1.1-.9-2-2-2zM9 17H7v-7h2v7zm4 0h-2V7h2v10zm4 0h-2v-4h2v4z\"/>\n",
              "    </g>\n",
              "</svg>\n",
              "  </button>\n",
              "\n",
              "<style>\n",
              "  .colab-df-quickchart {\n",
              "      --bg-color: #E8F0FE;\n",
              "      --fill-color: #1967D2;\n",
              "      --hover-bg-color: #E2EBFA;\n",
              "      --hover-fill-color: #174EA6;\n",
              "      --disabled-fill-color: #AAA;\n",
              "      --disabled-bg-color: #DDD;\n",
              "  }\n",
              "\n",
              "  [theme=dark] .colab-df-quickchart {\n",
              "      --bg-color: #3B4455;\n",
              "      --fill-color: #D2E3FC;\n",
              "      --hover-bg-color: #434B5C;\n",
              "      --hover-fill-color: #FFFFFF;\n",
              "      --disabled-bg-color: #3B4455;\n",
              "      --disabled-fill-color: #666;\n",
              "  }\n",
              "\n",
              "  .colab-df-quickchart {\n",
              "    background-color: var(--bg-color);\n",
              "    border: none;\n",
              "    border-radius: 50%;\n",
              "    cursor: pointer;\n",
              "    display: none;\n",
              "    fill: var(--fill-color);\n",
              "    height: 32px;\n",
              "    padding: 0;\n",
              "    width: 32px;\n",
              "  }\n",
              "\n",
              "  .colab-df-quickchart:hover {\n",
              "    background-color: var(--hover-bg-color);\n",
              "    box-shadow: 0 1px 2px rgba(60, 64, 67, 0.3), 0 1px 3px 1px rgba(60, 64, 67, 0.15);\n",
              "    fill: var(--button-hover-fill-color);\n",
              "  }\n",
              "\n",
              "  .colab-df-quickchart-complete:disabled,\n",
              "  .colab-df-quickchart-complete:disabled:hover {\n",
              "    background-color: var(--disabled-bg-color);\n",
              "    fill: var(--disabled-fill-color);\n",
              "    box-shadow: none;\n",
              "  }\n",
              "\n",
              "  .colab-df-spinner {\n",
              "    border: 2px solid var(--fill-color);\n",
              "    border-color: transparent;\n",
              "    border-bottom-color: var(--fill-color);\n",
              "    animation:\n",
              "      spin 1s steps(1) infinite;\n",
              "  }\n",
              "\n",
              "  @keyframes spin {\n",
              "    0% {\n",
              "      border-color: transparent;\n",
              "      border-bottom-color: var(--fill-color);\n",
              "      border-left-color: var(--fill-color);\n",
              "    }\n",
              "    20% {\n",
              "      border-color: transparent;\n",
              "      border-left-color: var(--fill-color);\n",
              "      border-top-color: var(--fill-color);\n",
              "    }\n",
              "    30% {\n",
              "      border-color: transparent;\n",
              "      border-left-color: var(--fill-color);\n",
              "      border-top-color: var(--fill-color);\n",
              "      border-right-color: var(--fill-color);\n",
              "    }\n",
              "    40% {\n",
              "      border-color: transparent;\n",
              "      border-right-color: var(--fill-color);\n",
              "      border-top-color: var(--fill-color);\n",
              "    }\n",
              "    60% {\n",
              "      border-color: transparent;\n",
              "      border-right-color: var(--fill-color);\n",
              "    }\n",
              "    80% {\n",
              "      border-color: transparent;\n",
              "      border-right-color: var(--fill-color);\n",
              "      border-bottom-color: var(--fill-color);\n",
              "    }\n",
              "    90% {\n",
              "      border-color: transparent;\n",
              "      border-bottom-color: var(--fill-color);\n",
              "    }\n",
              "  }\n",
              "</style>\n",
              "\n",
              "  <script>\n",
              "    async function quickchart(key) {\n",
              "      const quickchartButtonEl =\n",
              "        document.querySelector('#' + key + ' button');\n",
              "      quickchartButtonEl.disabled = true;  // To prevent multiple clicks.\n",
              "      quickchartButtonEl.classList.add('colab-df-spinner');\n",
              "      try {\n",
              "        const charts = await google.colab.kernel.invokeFunction(\n",
              "            'suggestCharts', [key], {});\n",
              "      } catch (error) {\n",
              "        console.error('Error during call to suggestCharts:', error);\n",
              "      }\n",
              "      quickchartButtonEl.classList.remove('colab-df-spinner');\n",
              "      quickchartButtonEl.classList.add('colab-df-quickchart-complete');\n",
              "    }\n",
              "    (() => {\n",
              "      let quickchartButtonEl =\n",
              "        document.querySelector('#df-d160ed2a-1192-47ab-857b-f963057a489b button');\n",
              "      quickchartButtonEl.style.display =\n",
              "        google.colab.kernel.accessAllowed ? 'block' : 'none';\n",
              "    })();\n",
              "  </script>\n",
              "</div>\n",
              "\n",
              "    </div>\n",
              "  </div>\n"
            ],
            "application/vnd.google.colaboratory.intrinsic+json": {
              "type": "dataframe",
              "summary": "{\n  \"name\": \"df\",\n  \"rows\": 8,\n  \"fields\": [\n    {\n      \"column\": \"Temperature (K)\",\n      \"properties\": {\n        \"dtype\": \"number\",\n        \"std\": 12779.766121551887,\n        \"min\": 240.0,\n        \"max\": 40000.0,\n        \"num_unique_values\": 8,\n        \"samples\": [\n          10497.4625,\n          5776.0,\n          240.0\n        ],\n        \"semantic_type\": \"\",\n        \"description\": \"\"\n      }\n    },\n    {\n      \"column\": \"Luminosity (L/Lo)\",\n      \"properties\": {\n        \"dtype\": \"number\",\n        \"std\": 288312.4983927237,\n        \"min\": 8e-05,\n        \"max\": 849420.0,\n        \"num_unique_values\": 8,\n        \"samples\": [\n          107188.36163460833,\n          0.07050000000000001,\n          240.0\n        ],\n        \"semantic_type\": \"\",\n        \"description\": \"\"\n      }\n    },\n    {\n      \"column\": \"Radius (R/Ro)\",\n      \"properties\": {\n        \"dtype\": \"number\",\n        \"std\": 661.6994798706687,\n        \"min\": 0.0084,\n        \"max\": 1948.5,\n        \"num_unique_values\": 8,\n        \"samples\": [\n          237.157781375,\n          0.7625,\n          240.0\n        ],\n        \"semantic_type\": \"\",\n        \"description\": \"\"\n      }\n    },\n    {\n      \"column\": \"Absolute magnitude (Mv)\",\n      \"properties\": {\n        \"dtype\": \"number\",\n        \"std\": 83.53932085753395,\n        \"min\": -11.92,\n        \"max\": 240.0,\n        \"num_unique_values\": 8,\n        \"samples\": [\n          4.382395833333334,\n          8.312999999999999,\n          240.0\n        ],\n        \"semantic_type\": \"\",\n        \"description\": \"\"\n      }\n    },\n    {\n      \"column\": \"Star type\",\n      \"properties\": {\n        \"dtype\": \"number\",\n        \"std\": 84.0236670551891,\n        \"min\": 0.0,\n        \"max\": 240.0,\n        \"num_unique_values\": 7,\n        \"samples\": [\n          240.0,\n          2.5,\n          4.0\n        ],\n        \"semantic_type\": \"\",\n        \"description\": \"\"\n      }\n    }\n  ]\n}"
            }
          },
          "metadata": {},
          "execution_count": 140
        }
      ]
    },
    {
      "cell_type": "code",
      "source": [
        "df.columns"
      ],
      "metadata": {
        "colab": {
          "base_uri": "https://localhost:8080/"
        },
        "id": "ppfrLbpSbKeZ",
        "outputId": "fd6e3b64-0488-4dc0-fc4e-31c312036fee"
      },
      "execution_count": 141,
      "outputs": [
        {
          "output_type": "execute_result",
          "data": {
            "text/plain": [
              "Index(['Temperature (K)', 'Luminosity (L/Lo)', 'Radius (R/Ro)',\n",
              "       'Absolute magnitude (Mv)', 'Star type', 'Star category', 'Star color',\n",
              "       'Spectral Class'],\n",
              "      dtype='object')"
            ]
          },
          "metadata": {},
          "execution_count": 141
        }
      ]
    },
    {
      "cell_type": "code",
      "source": [
        "cols = ['Temperature (K)', 'Luminosity (L/Lo)', 'Radius (R/Ro)',\n",
        "       'Absolute magnitude(Mv)']"
      ],
      "metadata": {
        "id": "OwQyNqobfKjb"
      },
      "execution_count": 142,
      "outputs": []
    },
    {
      "cell_type": "markdown",
      "source": [
        "## Visualize Dataset"
      ],
      "metadata": {
        "id": "dIkVh_9Nc5eg"
      }
    },
    {
      "cell_type": "code",
      "source": [
        "for i in range(len(cols)-1):\n",
        "    for j in range(i+1, len(cols)-1):\n",
        "      x_label = cols[i]\n",
        "      y_label = cols[j]\n",
        "      sns.scatterplot(x=x_label, y=y_label, data=df, hue=\"Spectral Class\")\n",
        "      plt.show()"
      ],
      "metadata": {
        "colab": {
          "base_uri": "https://localhost:8080/",
          "height": 1000
        },
        "id": "f5X466TSc4r4",
        "outputId": "e7acd73a-f2bd-4331-fe9e-f4948ec111d7"
      },
      "execution_count": 143,
      "outputs": [
        {
          "output_type": "display_data",
          "data": {
            "text/plain": [
              "<Figure size 640x480 with 1 Axes>"
            ],
            "image/png": "[encoded data removed]"
          },
          "metadata": {}
        },
        {
          "output_type": "display_data",
          "data": {
            "text/plain": [
              "<Figure size 640x480 with 1 Axes>"
            ],
            "image/png": "[encoded data removed]"
          },
          "metadata": {}
        },
        {
          "output_type": "display_data",
          "data": {
            "text/plain": [
              "<Figure size 640x480 with 1 Axes>"
            ],
            "image/png": "[encoded data removed]"
          },
          "metadata": {}
        }
      ]
    },
    {
      "cell_type": "markdown",
      "source": [
        "## Spectral Class"
      ],
      "metadata": {
        "id": "ozAwj1yvbSrg"
      }
    },
    {
      "cell_type": "markdown",
      "source": [
        "### Data Preparation"
      ],
      "metadata": {
        "id": "qgVjbOEWgf67"
      }
    },
    {
      "cell_type": "code",
      "source": [
        "df['Spectral Class'].value_counts()"
      ],
      "metadata": {
        "colab": {
          "base_uri": "https://localhost:8080/",
          "height": 335
        },
        "id": "2HaL9O1JbSFK",
        "outputId": "e7177660-0583-4594-9aaa-dc5c05dcba7b"
      },
      "execution_count": 144,
      "outputs": [
        {
          "output_type": "execute_result",
          "data": {
            "text/plain": [
              "Spectral Class\n",
              "M    111\n",
              "B     46\n",
              "O     40\n",
              "A     19\n",
              "F     17\n",
              "K      6\n",
              "G      1\n",
              "Name: count, dtype: int64"
            ],
            "text/html": [
              "<div>\n",
              "<style scoped>\n",
              "    .dataframe tbody tr th:only-of-type {\n",
              "        vertical-align: middle;\n",
              "    }\n",
              "\n",
              "    .dataframe tbody tr th {\n",
              "        vertical-align: top;\n",
              "    }\n",
              "\n",
              "    .dataframe thead th {\n",
              "        text-align: right;\n",
              "    }\n",
              "</style>\n",
              "<table border=\"1\" class=\"dataframe\">\n",
              "  <thead>\n",
              "    <tr style=\"text-align: right;\">\n",
              "      <th></th>\n",
              "      <th>count</th>\n",
              "    </tr>\n",
              "    <tr>\n",
              "      <th>Spectral Class</th>\n",
              "      <th></th>\n",
              "    </tr>\n",
              "  </thead>\n",
              "  <tbody>\n",
              "    <tr>\n",
              "      <th>M</th>\n",
              "      <td>111</td>\n",
              "    </tr>\n",
              "    <tr>\n",
              "      <th>B</th>\n",
              "      <td>46</td>\n",
              "    </tr>\n",
              "    <tr>\n",
              "      <th>O</th>\n",
              "      <td>40</td>\n",
              "    </tr>\n",
              "    <tr>\n",
              "      <th>A</th>\n",
              "      <td>19</td>\n",
              "    </tr>\n",
              "    <tr>\n",
              "      <th>F</th>\n",
              "      <td>17</td>\n",
              "    </tr>\n",
              "    <tr>\n",
              "      <th>K</th>\n",
              "      <td>6</td>\n",
              "    </tr>\n",
              "    <tr>\n",
              "      <th>G</th>\n",
              "      <td>1</td>\n",
              "    </tr>\n",
              "  </tbody>\n",
              "</table>\n",
              "</div><br><label><b>dtype:</b> int64</label>"
            ]
          },
          "metadata": {},
          "execution_count": 144
        }
      ]
    },
    {
      "cell_type": "code",
      "source": [
        "y = df['Spectral Class'].values\n",
        "y"
      ],
      "metadata": {
        "colab": {
          "base_uri": "https://localhost:8080/"
        },
        "id": "ihc8OtH4bN9K",
        "outputId": "7fbdd62e-7349-4775-9525-6676c161dcf7"
      },
      "execution_count": 145,
      "outputs": [
        {
          "output_type": "execute_result",
          "data": {
            "text/plain": [
              "array(['M', 'M', 'M', 'M', 'M', 'M', 'M', 'M', 'M', 'M', 'M', 'M', 'M',\n",
              "       'M', 'M', 'M', 'M', 'M', 'M', 'M', 'B', 'A', 'F', 'A', 'B', 'F',\n",
              "       'A', 'F', 'F', 'F', 'O', 'B', 'B', 'B', 'F', 'A', 'F', 'F', 'F',\n",
              "       'F', 'M', 'M', 'M', 'M', 'M', 'M', 'M', 'M', 'M', 'B', 'M', 'M',\n",
              "       'M', 'M', 'M', 'M', 'M', 'M', 'M', 'M', 'M', 'M', 'M', 'M', 'M',\n",
              "       'M', 'M', 'M', 'M', 'M', 'M', 'M', 'M', 'M', 'M', 'M', 'M', 'M',\n",
              "       'M', 'M', 'F', 'F', 'A', 'B', 'B', 'A', 'B', 'B', 'F', 'B', 'F',\n",
              "       'K', 'K', 'K', 'A', 'A', 'K', 'F', 'A', 'O', 'B', 'O', 'O', 'O',\n",
              "       'O', 'O', 'O', 'O', 'O', 'O', 'M', 'M', 'M', 'M', 'M', 'M', 'K',\n",
              "       'M', 'G', 'M', 'M', 'M', 'M', 'M', 'M', 'M', 'M', 'M', 'M', 'M',\n",
              "       'M', 'M', 'M', 'M', 'M', 'M', 'M', 'M', 'M', 'M', 'B', 'B', 'B',\n",
              "       'B', 'B', 'A', 'B', 'F', 'A', 'B', 'B', 'A', 'A', 'B', 'B', 'B',\n",
              "       'B', 'B', 'A', 'O', 'O', 'O', 'O', 'O', 'O', 'O', 'O', 'O', 'O',\n",
              "       'O', 'M', 'M', 'K', 'B', 'M', 'M', 'O', 'B', 'B', 'B', 'M', 'M',\n",
              "       'M', 'M', 'M', 'M', 'M', 'M', 'M', 'M', 'M', 'M', 'M', 'M', 'M',\n",
              "       'M', 'M', 'M', 'M', 'M', 'B', 'B', 'B', 'B', 'B', 'B', 'B', 'B',\n",
              "       'B', 'B', 'B', 'A', 'A', 'B', 'O', 'O', 'A', 'B', 'B', 'F', 'O',\n",
              "       'O', 'O', 'O', 'O', 'O', 'O', 'O', 'O', 'O', 'B', 'O', 'O', 'B',\n",
              "       'B', 'O', 'O', 'A', 'A', 'O'], dtype=object)"
            ]
          },
          "metadata": {},
          "execution_count": 145
        }
      ]
    },
    {
      "cell_type": "code",
      "source": [
        "x = df[['Temperature (K)', 'Luminosity (L/Lo)', 'Radius (R/Ro)',\n",
        "       'Absolute magnitude (Mv)']].values\n",
        "x"
      ],
      "metadata": {
        "colab": {
          "base_uri": "https://localhost:8080/"
        },
        "id": "GLhSef05biuY",
        "outputId": "56532f74-a9ef-444a-bd1c-074e0a6ba916"
      },
      "execution_count": 146,
      "outputs": [
        {
          "output_type": "execute_result",
          "data": {
            "text/plain": [
              "array([[ 3.06800e+03,  2.40000e-03,  1.70000e-01,  1.61200e+01],\n",
              "       [ 3.04200e+03,  5.00000e-04,  1.54200e-01,  1.66000e+01],\n",
              "       [ 2.60000e+03,  3.00000e-04,  1.02000e-01,  1.87000e+01],\n",
              "       [ 2.80000e+03,  2.00000e-04,  1.60000e-01,  1.66500e+01],\n",
              "       [ 1.93900e+03,  1.38000e-04,  1.03000e-01,  2.00600e+01],\n",
              "       [ 2.84000e+03,  6.50000e-04,  1.10000e-01,  1.69800e+01],\n",
              "       [ 2.63700e+03,  7.30000e-04,  1.27000e-01,  1.72200e+01],\n",
              "       [ 2.60000e+03,  4.00000e-04,  9.60000e-02,  1.74000e+01],\n",
              "       [ 2.65000e+03,  6.90000e-04,  1.10000e-01,  1.74500e+01],\n",
              "       [ 2.70000e+03,  1.80000e-04,  1.30000e-01,  1.60500e+01],\n",
              "       [ 3.60000e+03,  2.90000e-03,  5.10000e-01,  1.06900e+01],\n",
              "       [ 3.12900e+03,  1.22000e-02,  3.76100e-01,  1.17900e+01],\n",
              "       [ 3.13400e+03,  4.00000e-04,  1.96000e-01,  1.32100e+01],\n",
              "       [ 3.62800e+03,  5.50000e-03,  3.93000e-01,  1.04800e+01],\n",
              "       [ 2.65000e+03,  6.00000e-04,  1.40000e-01,  1.17820e+01],\n",
              "       [ 3.34000e+03,  3.80000e-03,  2.40000e-01,  1.30700e+01],\n",
              "       [ 2.79900e+03,  1.80000e-03,  1.60000e-01,  1.47900e+01],\n",
              "       [ 3.69200e+03,  3.67000e-03,  4.70000e-01,  1.08000e+01],\n",
              "       [ 3.19200e+03,  3.62000e-03,  1.96700e-01,  1.35300e+01],\n",
              "       [ 3.44100e+03,  3.90000e-02,  3.51000e-01,  1.11800e+01],\n",
              "       [ 2.50000e+04,  5.60000e-02,  8.40000e-03,  1.05800e+01],\n",
              "       [ 7.74000e+03,  4.90000e-04,  1.23400e-02,  1.40200e+01],\n",
              "       [ 7.22000e+03,  1.70000e-04,  1.10000e-02,  1.42300e+01],\n",
              "       [ 8.50000e+03,  5.00000e-04,  1.00000e-02,  1.45000e+01],\n",
              "       [ 1.65000e+04,  1.30000e-02,  1.40000e-02,  1.18900e+01],\n",
              "       [ 1.29900e+04,  8.50000e-05,  9.84000e-03,  1.22300e+01],\n",
              "       [ 8.57000e+03,  8.10000e-04,  9.70000e-03,  1.42000e+01],\n",
              "       [ 7.70000e+03,  1.10000e-04,  1.28000e-02,  1.44700e+01],\n",
              "       [ 1.17900e+04,  1.50000e-04,  1.10000e-02,  1.25900e+01],\n",
              "       [ 7.23000e+03,  8.00000e-05,  1.30000e-02,  1.40800e+01],\n",
              "       [ 3.90000e+04,  2.04000e+05,  1.06000e+01, -4.70000e+00],\n",
              "       [ 3.00000e+04,  2.88400e+04,  6.30000e+00, -4.20000e+00],\n",
              "       [ 1.52760e+04,  1.13600e+03,  7.20000e+00, -1.97000e+00],\n",
              "       [ 9.70000e+03,  7.40000e+01,  2.89000e+00,  1.60000e-01],\n",
              "       [ 5.80000e+03,  8.10000e-01,  9.00000e-01,  5.05000e+00],\n",
              "       [ 8.05200e+03,  8.70000e+00,  1.80000e+00,  2.42000e+00],\n",
              "       [ 6.75700e+03,  1.43000e+00,  1.12000e+00,  2.41000e+00],\n",
              "       [ 6.38000e+03,  1.35000e+00,  9.80000e-01,  2.93000e+00],\n",
              "       [ 5.93600e+03,  1.35700e+00,  1.10600e+00,  4.46000e+00],\n",
              "       [ 5.58700e+03,  8.19000e-01,  9.90000e-01,  5.03000e+00],\n",
              "       [ 3.82600e+03,  2.00000e+05,  1.90000e+01, -6.93000e+00],\n",
              "       [ 3.36500e+03,  3.40000e+05,  2.30000e+01, -6.20000e+00],\n",
              "       [ 3.27000e+03,  1.50000e+05,  8.80000e+01, -6.02000e+00],\n",
              "       [ 3.20000e+03,  1.95000e+05,  1.70000e+01, -7.22000e+00],\n",
              "       [ 3.00800e+03,  2.80000e+05,  2.50000e+01, -6.00000e+00],\n",
              "       [ 3.60000e+03,  3.20000e+05,  2.90000e+01, -6.60000e+00],\n",
              "       [ 3.57500e+03,  1.23000e+05,  4.50000e+01, -6.78000e+00],\n",
              "       [ 3.57400e+03,  2.00000e+05,  8.90000e+01, -5.24000e+00],\n",
              "       [ 3.62500e+03,  1.84000e+05,  8.40000e+01, -6.74000e+00],\n",
              "       [ 3.37500e+04,  2.20000e+05,  2.60000e+01, -6.10000e+00],\n",
              "       [ 3.49000e+03,  2.70000e+05,  1.52000e+03, -9.40000e+00],\n",
              "       [ 3.75000e+03,  2.83000e+05,  1.26000e+03, -7.63000e+00],\n",
              "       [ 3.83400e+03,  2.72000e+05,  1.18300e+03, -9.20000e+00],\n",
              "       [ 3.74900e+03,  5.50000e+05,  1.64800e+03, -8.05000e+00],\n",
              "       [ 3.65000e+03,  3.10000e+05,  1.32400e+03, -7.79000e+00],\n",
              "       [ 3.45000e+03,  2.63000e+05,  1.34900e+03, -1.17500e+01],\n",
              "       [ 3.66000e+03,  3.63000e+05,  1.67300e+03, -1.19200e+01],\n",
              "       [ 3.45000e+03,  1.74000e+05,  1.28400e+03, -1.12800e+01],\n",
              "       [ 3.75200e+03,  2.09000e+05,  9.55000e+02, -1.12400e+01],\n",
              "       [ 3.53500e+03,  1.95000e+05,  1.54600e+03, -1.13600e+01],\n",
              "       [ 3.34100e+03,  5.60000e-03,  5.70000e-02,  1.62300e+01],\n",
              "       [ 3.43200e+03,  6.70000e-04,  1.90000e-01,  1.69400e+01],\n",
              "       [ 2.98300e+03,  2.40000e-04,  9.40000e-02,  1.60900e+01],\n",
              "       [ 2.83500e+03,  3.40000e-04,  9.18000e-02,  1.69600e+01],\n",
              "       [ 2.93500e+03,  1.40000e-04,  1.16000e-01,  1.88900e+01],\n",
              "       [ 3.29500e+03,  9.80000e-04,  1.32000e-01,  1.71300e+01],\n",
              "       [ 2.94500e+03,  3.20000e-04,  9.30000e-02,  1.83400e+01],\n",
              "       [ 2.81700e+03,  9.80000e-04,  9.11000e-02,  1.64500e+01],\n",
              "       [ 2.77400e+03,  3.60000e-04,  1.18000e-01,  1.73900e+01],\n",
              "       [ 2.87100e+03,  7.20000e-04,  1.20000e-01,  1.94300e+01],\n",
              "       [ 3.34500e+03,  2.10000e-02,  2.73000e-01,  1.23000e+01],\n",
              "       [ 3.60700e+03,  2.20000e-02,  3.80000e-01,  1.01200e+01],\n",
              "       [ 3.30400e+03,  8.50000e-03,  1.80000e-01,  1.32000e+01],\n",
              "       [ 3.15000e+03,  8.80000e-03,  3.50000e-01,  1.19400e+01],\n",
              "       [ 3.55000e+03,  4.00000e-03,  2.91000e-01,  1.08900e+01],\n",
              "       [ 3.18000e+03,  1.00000e-03,  3.50000e-01,  1.17600e+01],\n",
              "       [ 2.89000e+03,  3.40000e-03,  2.40000e-01,  1.34600e+01],\n",
              "       [ 3.34200e+03,  1.50000e-03,  3.07000e-01,  1.18700e+01],\n",
              "       [ 2.62100e+03,  6.00000e-04,  9.80000e-02,  1.28100e+01],\n",
              "       [ 3.15800e+03,  1.35000e-03,  1.61000e-01,  1.39800e+01],\n",
              "       [ 7.10000e+03,  2.90000e-04,  1.20000e-02,  1.40900e+01],\n",
              "       [ 1.05740e+04,  1.40000e-04,  9.20000e-03,  1.20200e+01],\n",
              "       [ 8.93000e+03,  5.60000e-04,  9.50000e-03,  1.37800e+01],\n",
              "       [ 1.72000e+04,  9.80000e-04,  1.50000e-02,  1.24500e+01],\n",
              "       [ 1.41000e+04,  6.70000e-04,  8.90000e-03,  1.21700e+01],\n",
              "       [ 9.67500e+03,  4.50000e-04,  1.09000e-02,  1.39800e+01],\n",
              "       [ 1.20100e+04,  7.80000e-04,  9.20000e-03,  1.21300e+01],\n",
              "       [ 1.09800e+04,  7.40000e-04,  8.70000e-03,  1.11900e+01],\n",
              "       [ 1.37200e+04,  1.80000e-04,  8.92000e-03,  1.29700e+01],\n",
              "       [ 1.98600e+04,  1.10000e-03,  1.31000e-02,  1.13400e+01],\n",
              "       [ 5.30000e+03,  5.90000e-01,  9.10000e-01,  5.49000e+00],\n",
              "       [ 4.52600e+03,  1.53000e-01,  8.65000e-01,  6.50600e+00],\n",
              "       [ 4.07700e+03,  8.50000e-02,  7.95000e-01,  6.22800e+00],\n",
              "       [ 4.98000e+03,  3.57000e-01,  1.13000e+00,  4.78000e+00],\n",
              "       [ 9.03000e+03,  4.50000e+01,  2.63000e+00,  1.45000e+00],\n",
              "       [ 1.12500e+04,  6.72000e+02,  6.98000e+00, -2.30000e+00],\n",
              "       [ 5.11200e+03,  6.30000e-01,  8.76000e-01,  4.68000e+00],\n",
              "       [ 7.72000e+03,  7.92000e+00,  1.34000e+00,  2.44000e+00],\n",
              "       [ 1.20980e+04,  6.89000e+02,  7.01000e+00,  2.00000e-02],\n",
              "       [ 3.61080e+04,  1.98000e+05,  1.02000e+01, -4.40000e+00],\n",
              "       [ 3.33000e+04,  2.40000e+05,  1.20000e+01, -6.50000e+00],\n",
              "       [ 4.00000e+04,  8.13000e+05,  1.40000e+01, -6.23000e+00],\n",
              "       [ 2.30000e+04,  1.27000e+05,  3.60000e+01, -5.76000e+00],\n",
              "       [ 1.71200e+04,  2.35000e+05,  8.30000e+01, -6.89000e+00],\n",
              "       [ 1.10960e+04,  1.12000e+05,  1.20000e+01, -5.91000e+00],\n",
              "       [ 1.42450e+04,  2.31000e+05,  4.20000e+01, -6.12000e+00],\n",
              "       [ 2.46300e+04,  3.63000e+05,  6.30000e+01, -5.83000e+00],\n",
              "       [ 1.28930e+04,  1.84000e+05,  3.60000e+01, -6.34000e+00],\n",
              "       [ 2.43450e+04,  1.42000e+05,  5.70000e+01, -6.24000e+00],\n",
              "       [ 3.34210e+04,  3.52000e+05,  6.70000e+01, -5.79000e+00],\n",
              "       [ 3.45900e+03,  1.00000e+05,  1.28900e+03, -1.07000e+01],\n",
              "       [ 3.60500e+03,  1.26000e+05,  1.12400e+03, -1.08100e+01],\n",
              "       [ 3.61500e+03,  2.00000e+05,  1.63500e+03, -1.13300e+01],\n",
              "       [ 3.39900e+03,  1.17000e+05,  1.48600e+03, -1.09200e+01],\n",
              "       [ 3.61000e+03,  1.32000e+05,  1.52200e+03, -1.08600e+01],\n",
              "       [ 3.55300e+03,  1.45000e+05,  1.32400e+03, -1.10300e+01],\n",
              "       [ 4.01500e+03,  2.82000e+05,  1.53400e+03, -1.13900e+01],\n",
              "       [ 3.62500e+03,  7.40000e+04,  8.76000e+02, -1.02500e+01],\n",
              "       [ 6.85000e+03,  2.29000e+05,  1.46700e+03, -1.00700e+01],\n",
              "       [ 3.78000e+03,  2.00000e+05,  1.32400e+03, -1.07000e+01],\n",
              "       [ 3.32300e+03,  4.30000e-04,  9.12000e-02,  1.71600e+01],\n",
              "       [ 3.53100e+03,  9.30000e-04,  9.76000e-02,  1.99400e+01],\n",
              "       [ 3.21800e+03,  5.40000e-04,  1.10000e-01,  2.00200e+01],\n",
              "       [ 3.14600e+03,  1.50000e-04,  9.32000e-02,  1.69200e+01],\n",
              "       [ 3.51100e+03,  6.40000e-04,  1.09000e-01,  1.71200e+01],\n",
              "       [ 3.22500e+03,  7.60000e-04,  1.21000e-01,  1.96300e+01],\n",
              "       [ 2.93500e+03,  8.70000e-04,  9.32000e-02,  1.68800e+01],\n",
              "       [ 2.86100e+03,  1.90000e-04,  8.99000e-02,  1.67100e+01],\n",
              "       [ 2.85600e+03,  8.96000e-04,  7.82000e-02,  1.95600e+01],\n",
              "       [ 2.73100e+03,  4.37000e-04,  8.56000e-02,  1.80900e+01],\n",
              "       [ 3.09500e+03,  1.90000e-04,  4.92000e-01,  1.08700e+01],\n",
              "       [ 3.60700e+03,  2.30000e-04,  3.80000e-01,  1.03400e+01],\n",
              "       [ 3.10000e+03,  8.00000e-03,  3.10000e-01,  1.11700e+01],\n",
              "       [ 2.98900e+03,  8.70000e-03,  3.40000e-01,  1.31200e+01],\n",
              "       [ 3.54200e+03,  9.00000e-04,  6.20000e-01,  1.42300e+01],\n",
              "       [ 3.24300e+03,  2.30000e-03,  7.30000e-01,  1.47500e+01],\n",
              "       [ 3.09100e+03,  8.10000e-03,  2.40000e-01,  1.14300e+01],\n",
              "       [ 3.59800e+03,  1.10000e-03,  5.60000e-01,  1.42600e+01],\n",
              "       [ 3.32400e+03,  3.40000e-03,  3.40000e-01,  1.22300e+01],\n",
              "       [ 3.54100e+03,  1.30000e-03,  2.56000e-01,  1.43300e+01],\n",
              "       [ 1.34200e+04,  5.90000e-04,  9.81000e-03,  1.36700e+01],\n",
              "       [ 2.10200e+04,  1.50000e-03,  1.12000e-02,  1.15200e+01],\n",
              "       [ 1.82900e+04,  1.30000e-03,  9.34000e-03,  1.27800e+01],\n",
              "       [ 1.45200e+04,  8.20000e-04,  9.72000e-03,  1.19200e+01],\n",
              "       [ 1.19000e+04,  6.70000e-04,  8.98000e-03,  1.13800e+01],\n",
              "       [ 8.92400e+03,  2.80000e-04,  8.79000e-03,  1.48700e+01],\n",
              "       [ 1.29120e+04,  7.10000e-04,  9.45000e-03,  1.28300e+01],\n",
              "       [ 1.47320e+04,  1.10000e-04,  8.92000e-03,  1.28900e+01],\n",
              "       [ 7.72300e+03,  1.40000e-04,  8.78000e-03,  1.48100e+01],\n",
              "       [ 1.29840e+04,  8.80000e-04,  9.96000e-03,  1.12300e+01],\n",
              "       [ 2.95600e+04,  1.88000e+05,  6.02000e+00, -4.01000e+00],\n",
              "       [ 8.94500e+03,  3.80000e+01,  2.48700e+00,  1.20000e-01],\n",
              "       [ 1.40600e+04,  1.09200e+03,  5.74500e+00, -2.04000e+00],\n",
              "       [ 1.63900e+04,  1.27800e+03,  5.68000e+00, -3.32000e+00],\n",
              "       [ 2.50700e+04,  1.45000e+04,  5.92000e+00, -3.98000e+00],\n",
              "       [ 2.87000e+04,  1.67900e+04,  6.40000e+00, -4.09000e+00],\n",
              "       [ 2.61400e+04,  1.45200e+04,  5.49000e+00, -3.80000e+00],\n",
              "       [ 2.01200e+04,  4.72000e+03,  6.78000e+00, -3.40000e+00],\n",
              "       [ 1.30230e+04,  9.98000e+02,  6.21000e+00, -1.38000e+00],\n",
              "       [ 3.78000e+04,  2.02900e+05,  6.86000e+00, -4.56000e+00],\n",
              "       [ 2.53900e+04,  2.23000e+05,  5.70000e+01, -5.92000e+00],\n",
              "       [ 1.15670e+04,  2.51000e+05,  3.60000e+01, -6.24500e+00],\n",
              "       [ 1.26750e+04,  4.52000e+05,  8.30000e+01, -5.62000e+00],\n",
              "       [ 5.75200e+03,  2.45000e+05,  9.70000e+01, -6.63000e+00],\n",
              "       [ 8.92700e+03,  2.39000e+05,  3.50000e+01, -7.34000e+00],\n",
              "       [ 7.28200e+03,  1.31000e+05,  2.40000e+01, -7.22000e+00],\n",
              "       [ 1.99230e+04,  1.52000e+05,  7.30000e+01, -5.69000e+00],\n",
              "       [ 2.63730e+04,  1.98000e+05,  3.90000e+01, -5.83000e+00],\n",
              "       [ 1.73830e+04,  3.42900e+05,  3.00000e+01, -6.09000e+00],\n",
              "       [ 9.37300e+03,  4.24520e+05,  2.40000e+01, -5.99000e+00],\n",
              "       [ 3.57000e+03,  3.20000e+05,  1.48000e+03, -7.58000e+00],\n",
              "       [ 3.50000e+03,  1.38000e+05,  1.42000e+03, -8.18000e+00],\n",
              "       [ 4.28700e+03,  6.30000e+05,  1.31500e+03, -9.20000e+00],\n",
              "       [ 2.60000e+04,  3.16000e+05,  1.67900e+03, -9.10000e+00],\n",
              "       [ 3.60000e+03,  2.40000e+05,  1.19000e+03, -7.89000e+00],\n",
              "       [ 3.61400e+03,  1.45000e+05,  1.55300e+03, -7.71000e+00],\n",
              "       [ 1.80000e+04,  2.00000e+05,  1.04500e+03, -8.30000e+00],\n",
              "       [ 1.10000e+04,  1.70000e+05,  1.77900e+03, -9.90000e+00],\n",
              "       [ 1.21000e+04,  1.20000e+05,  7.08900e+02, -7.84000e+00],\n",
              "       [ 2.44900e+04,  2.48490e+05,  1.13450e+03, -8.24000e+00],\n",
              "       [ 2.83100e+03,  2.31000e-04,  9.15000e-02,  1.62100e+01],\n",
              "       [ 2.91400e+03,  6.31000e-04,  1.16000e-01,  1.83900e+01],\n",
              "       [ 3.41900e+03,  2.45000e-04,  1.26000e-01,  1.75600e+01],\n",
              "       [ 3.21800e+03,  4.52000e-04,  9.87000e-02,  1.73400e+01],\n",
              "       [ 3.45300e+03,  6.21000e-04,  7.73000e-02,  1.70800e+01],\n",
              "       [ 2.88900e+03,  3.52000e-04,  9.73000e-02,  1.69300e+01],\n",
              "       [ 2.96800e+03,  4.61000e-04,  1.19000e-01,  1.74500e+01],\n",
              "       [ 3.48400e+03,  5.51000e-04,  9.98000e-02,  1.66700e+01],\n",
              "       [ 2.77800e+03,  8.49000e-04,  1.12000e-01,  1.94500e+01],\n",
              "       [ 3.52300e+03,  9.57000e-04,  1.29000e-01,  1.63500e+01],\n",
              "       [ 3.46200e+03,  5.30000e-03,  1.48000e-01,  1.14700e+01],\n",
              "       [ 3.25700e+03,  2.40000e-03,  4.60000e-01,  1.07300e+01],\n",
              "       [ 2.99400e+03,  7.20000e-03,  2.80000e-01,  1.34500e+01],\n",
              "       [ 3.21200e+03,  1.60000e-03,  3.78000e-01,  1.28540e+01],\n",
              "       [ 3.52300e+03,  5.40000e-03,  3.19000e-01,  1.24300e+01],\n",
              "       [ 3.59800e+03,  2.70000e-03,  6.70000e-01,  1.36670e+01],\n",
              "       [ 3.14200e+03,  1.32000e-03,  2.58000e-01,  1.41200e+01],\n",
              "       [ 3.49600e+03,  1.25000e-03,  3.36000e-01,  1.49400e+01],\n",
              "       [ 3.32400e+03,  6.50000e-03,  4.71000e-01,  1.27800e+01],\n",
              "       [ 3.46300e+03,  2.70000e-03,  6.75000e-01,  1.47760e+01],\n",
              "       [ 1.67900e+04,  1.40000e-03,  1.21000e-02,  1.28700e+01],\n",
              "       [ 1.56800e+04,  1.22000e-03,  1.14000e-02,  1.19200e+01],\n",
              "       [ 1.49820e+04,  1.18000e-03,  1.13000e-02,  1.22300e+01],\n",
              "       [ 1.33400e+04,  1.09000e-03,  1.16000e-02,  1.29000e+01],\n",
              "       [ 1.83400e+04,  1.34000e-03,  1.24000e-02,  1.12200e+01],\n",
              "       [ 1.99200e+04,  1.56000e-03,  1.42000e-02,  1.13400e+01],\n",
              "       [ 2.40200e+04,  1.59000e-03,  1.27000e-02,  1.05500e+01],\n",
              "       [ 2.30920e+04,  1.32000e-03,  1.04000e-02,  1.01800e+01],\n",
              "       [ 1.79200e+04,  1.11000e-03,  1.06000e-02,  1.16600e+01],\n",
              "       [ 1.93600e+04,  1.25000e-03,  9.98000e-03,  1.16200e+01],\n",
              "       [ 2.23500e+04,  1.24500e+04,  6.36000e+00, -3.67000e+00],\n",
              "       [ 1.00120e+04,  5.52000e+02,  5.85600e+00,  1.30000e-02],\n",
              "       [ 1.30890e+04,  7.88000e+02,  5.99200e+00, -1.20000e-01],\n",
              "       [ 2.20120e+04,  6.74800e+03,  6.64000e+00, -2.55000e+00],\n",
              "       [ 3.41900e+04,  1.98200e+05,  6.39000e+00, -4.57000e+00],\n",
              "       [ 3.24600e+04,  1.73800e+05,  6.23700e+00, -4.36000e+00],\n",
              "       [ 9.32000e+03,  2.90000e+01,  1.91000e+00,  1.23600e+00],\n",
              "       [ 1.94000e+04,  1.09200e+04,  6.03000e+00, -3.08000e+00],\n",
              "       [ 1.71400e+04,  8.83000e+02,  5.65300e+00, -2.64000e+00],\n",
              "       [ 8.25000e+03,  9.25000e+00,  1.93000e+00, -9.80000e-01],\n",
              "       [ 2.36780e+04,  2.44290e+05,  3.50000e+01, -6.27000e+00],\n",
              "       [ 1.27490e+04,  3.32520e+05,  7.60000e+01, -7.02000e+00],\n",
              "       [ 9.38300e+03,  3.42940e+05,  9.80000e+01, -6.98000e+00],\n",
              "       [ 2.34400e+04,  5.37430e+05,  8.10000e+01, -5.97500e+00],\n",
              "       [ 1.67870e+04,  2.46730e+05,  6.20000e+01, -6.35000e+00],\n",
              "       [ 1.87340e+04,  2.24780e+05,  4.60000e+01, -7.45000e+00],\n",
              "       [ 9.89200e+03,  5.93900e+05,  8.00000e+01, -7.26200e+00],\n",
              "       [ 1.09300e+04,  7.83930e+05,  2.50000e+01, -6.22400e+00],\n",
              "       [ 2.30950e+04,  3.47820e+05,  8.60000e+01, -5.90500e+00],\n",
              "       [ 2.17380e+04,  7.48890e+05,  9.20000e+01, -7.34600e+00],\n",
              "       [ 2.41450e+04,  3.82993e+05,  1.49400e+03, -8.84000e+00],\n",
              "       [ 3.82340e+04,  2.72830e+05,  1.35600e+03, -9.29000e+00],\n",
              "       [ 3.24890e+04,  6.48430e+05,  1.94850e+03, -1.08400e+01],\n",
              "       [ 2.77390e+04,  8.49420e+05,  1.25200e+03, -7.59000e+00],\n",
              "       [ 2.19040e+04,  7.48490e+05,  1.13000e+03, -7.67000e+00],\n",
              "       [ 3.89400e+04,  3.74830e+05,  1.35600e+03, -9.93000e+00],\n",
              "       [ 3.08390e+04,  8.34042e+05,  1.19400e+03, -1.06300e+01],\n",
              "       [ 8.82900e+03,  5.37493e+05,  1.42300e+03, -1.07300e+01],\n",
              "       [ 9.23500e+03,  4.04940e+05,  1.11200e+03, -1.12300e+01],\n",
              "       [ 3.78820e+04,  2.94903e+05,  1.78300e+03, -7.80000e+00]])"
            ]
          },
          "metadata": {},
          "execution_count": 146
        }
      ]
    },
    {
      "cell_type": "code",
      "source": [
        "X_train, X_test, y_train, y_test = train_test_split(x,y, test_size=0.2, random_state=42)\n",
        "\n",
        "print(X_train.shape, X_test.shape, y_train.shape, y_test.shape)"
      ],
      "metadata": {
        "colab": {
          "base_uri": "https://localhost:8080/"
        },
        "id": "VnDz4zVRcKIg",
        "outputId": "df92236f-c55e-4d8f-cc43-f669bca44dd9"
      },
      "execution_count": 147,
      "outputs": [
        {
          "output_type": "stream",
          "name": "stdout",
          "text": [
            "(192, 4) (48, 4) (192,) (48,)\n"
          ]
        }
      ]
    },
    {
      "cell_type": "markdown",
      "source": [
        "### Train Model"
      ],
      "metadata": {
        "id": "bjju9kEZgpll"
      }
    },
    {
      "cell_type": "code",
      "source": [
        "score = []\n",
        "k_range = list(range(1, 101))\n",
        "best_k = 0;\n",
        "best_score = float('-inf')\n",
        "\n",
        "for k in k_range:\n",
        "  knn_model = KNeighborsClassifier(n_neighbors=k)\n",
        "  knn_model.fit(X_train, y_train) # Train Model\n",
        "\n",
        "  y_pred = knn_model.predict(X_test) # Predict labels for test set\n",
        "  if knn_model.score(X_test, y_test) > best_score:\n",
        "    best_score = knn_model.score(X_test, y_test)\n",
        "    best_k = k\n",
        "    print(f\"Best model - k = {k}, Accuracy: {best_score}\")\n",
        "\n",
        "  score.append(knn_model.score(X_test, y_test))"
      ],
      "metadata": {
        "colab": {
          "base_uri": "https://localhost:8080/"
        },
        "id": "IAycO0LecVKo",
        "outputId": "95b43a8c-e691-4be5-c2c8-52578173eeee"
      },
      "execution_count": 148,
      "outputs": [
        {
          "output_type": "stream",
          "name": "stdout",
          "text": [
            "Best model - k = 1, Accuracy: 0.7708333333333334\n"
          ]
        }
      ]
    },
    {
      "cell_type": "code",
      "source": [
        "plt.plot(range(1,101), score)\n",
        "plt.xlabel('Value of k for KNN')\n",
        "plt.ylabel('Accuracy Score')\n",
        "plt.title('Accuracy Scores for Values of k of k-Nearest-Neighbors')\n",
        "plt.show()"
      ],
      "metadata": {
        "colab": {
          "base_uri": "https://localhost:8080/",
          "height": 472
        },
        "id": "t1lhB0gegrAL",
        "outputId": "466ebbb1-92e6-4e8c-bfc7-b244e00a71ca"
      },
      "execution_count": 149,
      "outputs": [
        {
          "output_type": "display_data",
          "data": {
            "text/plain": [
              "<Figure size 640x480 with 1 Axes>"
            ],
            "image/png": "[encoded data removed]"
          },
          "metadata": {}
        }
      ]
    },
    {
      "cell_type": "code",
      "source": [
        "model = KNeighborsClassifier(n_neighbors=best_k)\n",
        "model.fit(X_train, y_train)"
      ],
      "metadata": {
        "colab": {
          "base_uri": "https://localhost:8080/",
          "height": 74
        },
        "id": "Pc5AoH6Ig6Xj",
        "outputId": "21df1fb7-2110-4722-8d41-b3bd4c9f4723"
      },
      "execution_count": 150,
      "outputs": [
        {
          "output_type": "execute_result",
          "data": {
            "text/plain": [
              "KNeighborsClassifier(n_neighbors=1)"
            ],
            "text/html": [
              "<style>#sk-container-id-4 {color: black;}#sk-container-id-4 pre{padding: 0;}#sk-container-id-4 div.sk-toggleable {background-color: white;}#sk-container-id-4 label.sk-toggleable__label {cursor: pointer;display: block;width: 100%;margin-bottom: 0;padding: 0.3em;box-sizing: border-box;text-align: center;}#sk-container-id-4 label.sk-toggleable__label-arrow:before {content: \"▸\";float: left;margin-right: 0.25em;color: #696969;}#sk-container-id-4 label.sk-toggleable__label-arrow:hover:before {color: black;}#sk-container-id-4 div.sk-estimator:hover label.sk-toggleable__label-arrow:before {color: black;}#sk-container-id-4 div.sk-toggleable__content {max-height: 0;max-width: 0;overflow: hidden;text-align: left;background-color: #f0f8ff;}#sk-container-id-4 div.sk-toggleable__content pre {margin: 0.2em;color: black;border-radius: 0.25em;background-color: #f0f8ff;}#sk-container-id-4 input.sk-toggleable__control:checked~div.sk-toggleable__content {max-height: 200px;max-width: 100%;overflow: auto;}#sk-container-id-4 input.sk-toggleable__control:checked~label.sk-toggleable__label-arrow:before {content: \"▾\";}#sk-container-id-4 div.sk-estimator input.sk-toggleable__control:checked~label.sk-toggleable__label {background-color: #d4ebff;}#sk-container-id-4 div.sk-label input.sk-toggleable__control:checked~label.sk-toggleable__label {background-color: #d4ebff;}#sk-container-id-4 input.sk-hidden--visually {border: 0;clip: rect(1px 1px 1px 1px);clip: rect(1px, 1px, 1px, 1px);height: 1px;margin: -1px;overflow: hidden;padding: 0;position: absolute;width: 1px;}#sk-container-id-4 div.sk-estimator {font-family: monospace;background-color: #f0f8ff;border: 1px dotted black;border-radius: 0.25em;box-sizing: border-box;margin-bottom: 0.5em;}#sk-container-id-4 div.sk-estimator:hover {background-color: #d4ebff;}#sk-container-id-4 div.sk-parallel-item::after {content: \"\";width: 100%;border-bottom: 1px solid gray;flex-grow: 1;}#sk-container-id-4 div.sk-label:hover label.sk-toggleable__label {background-color: #d4ebff;}#sk-container-id-4 div.sk-serial::before {content: \"\";position: absolute;border-left: 1px solid gray;box-sizing: border-box;top: 0;bottom: 0;left: 50%;z-index: 0;}#sk-container-id-4 div.sk-serial {display: flex;flex-direction: column;align-items: center;background-color: white;padding-right: 0.2em;padding-left: 0.2em;position: relative;}#sk-container-id-4 div.sk-item {position: relative;z-index: 1;}#sk-container-id-4 div.sk-parallel {display: flex;align-items: stretch;justify-content: center;background-color: white;position: relative;}#sk-container-id-4 div.sk-item::before, #sk-container-id-4 div.sk-parallel-item::before {content: \"\";position: absolute;border-left: 1px solid gray;box-sizing: border-box;top: 0;bottom: 0;left: 50%;z-index: -1;}#sk-container-id-4 div.sk-parallel-item {display: flex;flex-direction: column;z-index: 1;position: relative;background-color: white;}#sk-container-id-4 div.sk-parallel-item:first-child::after {align-self: flex-end;width: 50%;}#sk-container-id-4 div.sk-parallel-item:last-child::after {align-self: flex-start;width: 50%;}#sk-container-id-4 div.sk-parallel-item:only-child::after {width: 0;}#sk-container-id-4 div.sk-dashed-wrapped {border: 1px dashed gray;margin: 0 0.4em 0.5em 0.4em;box-sizing: border-box;padding-bottom: 0.4em;background-color: white;}#sk-container-id-4 div.sk-label label {font-family: monospace;font-weight: bold;display: inline-block;line-height: 1.2em;}#sk-container-id-4 div.sk-label-container {text-align: center;}#sk-container-id-4 div.sk-container {/* jupyter's `normalize.less` sets `[hidden] { display: none; }` but bootstrap.min.css set `[hidden] { display: none !important; }` so we also need the `!important` here to be able to override the default hidden behavior on the sphinx rendered scikit-learn.org. See: https://github.com/scikit-learn/scikit-learn/issues/21755 */display: inline-block !important;position: relative;}#sk-container-id-4 div.sk-text-repr-fallback {display: none;}</style><div id=\"sk-container-id-4\" class=\"sk-top-container\"><div class=\"sk-text-repr-fallback\"><pre>KNeighborsClassifier(n_neighbors=1)</pre><b>In a Jupyter environment, please rerun this cell to show the HTML representation or trust the notebook. <br />On GitHub, the HTML representation is unable to render, please try loading this page with nbviewer.org.</b></div><div class=\"sk-container\" hidden><div class=\"sk-item\"><div class=\"sk-estimator sk-toggleable\"><input class=\"sk-toggleable__control sk-hidden--visually\" id=\"sk-estimator-id-4\" type=\"checkbox\" checked><label for=\"sk-estimator-id-4\" class=\"sk-toggleable__label sk-toggleable__label-arrow\">KNeighborsClassifier</label><div class=\"sk-toggleable__content\"><pre>KNeighborsClassifier(n_neighbors=1)</pre></div></div></div></div></div>"
            ]
          },
          "metadata": {},
          "execution_count": 150
        }
      ]
    },
    {
      "cell_type": "code",
      "source": [
        "y_pred = model.predict(X_test)"
      ],
      "metadata": {
        "id": "4jCaQHk2g_ji"
      },
      "execution_count": 151,
      "outputs": []
    },
    {
      "cell_type": "code",
      "source": [
        "print(classification_report(y_test, y_pred))"
      ],
      "metadata": {
        "colab": {
          "base_uri": "https://localhost:8080/"
        },
        "id": "GVU6z0rLhDn5",
        "outputId": "cf302e42-9000-48a2-89e0-fe0e298a9b7a"
      },
      "execution_count": 152,
      "outputs": [
        {
          "output_type": "stream",
          "name": "stdout",
          "text": [
            "              precision    recall  f1-score   support\n",
            "\n",
            "           A       1.00      0.50      0.67         2\n",
            "           B       0.75      0.60      0.67        10\n",
            "           F       0.25      0.50      0.33         2\n",
            "           K       0.00      0.00      0.00         3\n",
            "           M       0.91      1.00      0.95        21\n",
            "           O       0.67      0.80      0.73        10\n",
            "\n",
            "    accuracy                           0.77        48\n",
            "   macro avg       0.60      0.57      0.56        48\n",
            "weighted avg       0.75      0.77      0.75        48\n",
            "\n"
          ]
        },
        {
          "output_type": "stream",
          "name": "stderr",
          "text": [
            "/usr/local/lib/python3.10/dist-packages/sklearn/metrics/_classification.py:1471: UndefinedMetricWarning: Precision and F-score are ill-defined and being set to 0.0 in labels with no predicted samples. Use `zero_division` parameter to control this behavior.\n",
            "  _warn_prf(average, modifier, msg_start, len(result))\n",
            "/usr/local/lib/python3.10/dist-packages/sklearn/metrics/_classification.py:1471: UndefinedMetricWarning: Precision and F-score are ill-defined and being set to 0.0 in labels with no predicted samples. Use `zero_division` parameter to control this behavior.\n",
            "  _warn_prf(average, modifier, msg_start, len(result))\n",
            "/usr/local/lib/python3.10/dist-packages/sklearn/metrics/_classification.py:1471: UndefinedMetricWarning: Precision and F-score are ill-defined and being set to 0.0 in labels with no predicted samples. Use `zero_division` parameter to control this behavior.\n",
            "  _warn_prf(average, modifier, msg_start, len(result))\n"
          ]
        }
      ]
    },
    {
      "cell_type": "code",
      "source": [],
      "metadata": {
        "id": "K27t9lSxhGEA"
      },
      "execution_count": 152,
      "outputs": []
    },
    {
      "cell_type": "markdown",
      "source": [
        "## Star Type"
      ],
      "metadata": {
        "id": "Dnrq0Qb0kRmQ"
      }
    },
    {
      "cell_type": "markdown",
      "source": [
        "### Data Preparation"
      ],
      "metadata": {
        "id": "m6Wb6G-HkRmX"
      }
    },
    {
      "cell_type": "code",
      "source": [
        "df['Star type'].value_counts()"
      ],
      "metadata": {
        "colab": {
          "base_uri": "https://localhost:8080/",
          "height": 303
        },
        "outputId": "40684236-4104-4584-f8e4-21745118a8aa",
        "id": "kAXtzgvWkRmX"
      },
      "execution_count": 153,
      "outputs": [
        {
          "output_type": "execute_result",
          "data": {
            "text/plain": [
              "Star type\n",
              "0    40\n",
              "1    40\n",
              "2    40\n",
              "3    40\n",
              "4    40\n",
              "5    40\n",
              "Name: count, dtype: int64"
            ],
            "text/html": [
              "<div>\n",
              "<style scoped>\n",
              "    .dataframe tbody tr th:only-of-type {\n",
              "        vertical-align: middle;\n",
              "    }\n",
              "\n",
              "    .dataframe tbody tr th {\n",
              "        vertical-align: top;\n",
              "    }\n",
              "\n",
              "    .dataframe thead th {\n",
              "        text-align: right;\n",
              "    }\n",
              "</style>\n",
              "<table border=\"1\" class=\"dataframe\">\n",
              "  <thead>\n",
              "    <tr style=\"text-align: right;\">\n",
              "      <th></th>\n",
              "      <th>count</th>\n",
              "    </tr>\n",
              "    <tr>\n",
              "      <th>Star type</th>\n",
              "      <th></th>\n",
              "    </tr>\n",
              "  </thead>\n",
              "  <tbody>\n",
              "    <tr>\n",
              "      <th>0</th>\n",
              "      <td>40</td>\n",
              "    </tr>\n",
              "    <tr>\n",
              "      <th>1</th>\n",
              "      <td>40</td>\n",
              "    </tr>\n",
              "    <tr>\n",
              "      <th>2</th>\n",
              "      <td>40</td>\n",
              "    </tr>\n",
              "    <tr>\n",
              "      <th>3</th>\n",
              "      <td>40</td>\n",
              "    </tr>\n",
              "    <tr>\n",
              "      <th>4</th>\n",
              "      <td>40</td>\n",
              "    </tr>\n",
              "    <tr>\n",
              "      <th>5</th>\n",
              "      <td>40</td>\n",
              "    </tr>\n",
              "  </tbody>\n",
              "</table>\n",
              "</div><br><label><b>dtype:</b> int64</label>"
            ]
          },
          "metadata": {},
          "execution_count": 153
        }
      ]
    },
    {
      "cell_type": "code",
      "source": [
        "y = df['Star type'].values\n",
        "y"
      ],
      "metadata": {
        "colab": {
          "base_uri": "https://localhost:8080/"
        },
        "outputId": "cf138853-3361-47f2-dc96-4ead55058c6e",
        "id": "JTbYj6KqkRmX"
      },
      "execution_count": 154,
      "outputs": [
        {
          "output_type": "execute_result",
          "data": {
            "text/plain": [
              "array([0, 0, 0, 0, 0, 0, 0, 0, 0, 0, 1, 1, 1, 1, 1, 1, 1, 1, 1, 1, 2, 2,\n",
              "       2, 2, 2, 2, 2, 2, 2, 2, 3, 3, 3, 3, 3, 3, 3, 3, 3, 3, 4, 4, 4, 4,\n",
              "       4, 4, 4, 4, 4, 4, 5, 5, 5, 5, 5, 5, 5, 5, 5, 5, 0, 0, 0, 0, 0, 0,\n",
              "       0, 0, 0, 0, 1, 1, 1, 1, 1, 1, 1, 1, 1, 1, 2, 2, 2, 2, 2, 2, 2, 2,\n",
              "       2, 2, 3, 3, 3, 3, 3, 3, 3, 3, 3, 3, 4, 4, 4, 4, 4, 4, 4, 4, 4, 4,\n",
              "       5, 5, 5, 5, 5, 5, 5, 5, 5, 5, 0, 0, 0, 0, 0, 0, 0, 0, 0, 0, 1, 1,\n",
              "       1, 1, 1, 1, 1, 1, 1, 1, 2, 2, 2, 2, 2, 2, 2, 2, 2, 2, 3, 3, 3, 3,\n",
              "       3, 3, 3, 3, 3, 3, 4, 4, 4, 4, 4, 4, 4, 4, 4, 4, 5, 5, 5, 5, 5, 5,\n",
              "       5, 5, 5, 5, 0, 0, 0, 0, 0, 0, 0, 0, 0, 0, 1, 1, 1, 1, 1, 1, 1, 1,\n",
              "       1, 1, 2, 2, 2, 2, 2, 2, 2, 2, 2, 2, 3, 3, 3, 3, 3, 3, 3, 3, 3, 3,\n",
              "       4, 4, 4, 4, 4, 4, 4, 4, 4, 4, 5, 5, 5, 5, 5, 5, 5, 5, 5, 5])"
            ]
          },
          "metadata": {},
          "execution_count": 154
        }
      ]
    },
    {
      "cell_type": "code",
      "source": [
        "x = df[['Temperature (K)', 'Luminosity (L/Lo)', 'Radius (R/Ro)',\n",
        "       'Absolute magnitude (Mv)']].values\n",
        "x"
      ],
      "metadata": {
        "colab": {
          "base_uri": "https://localhost:8080/"
        },
        "outputId": "85fa7a74-5480-4a91-b9d1-fd6ad4715fc7",
        "id": "ZWTJFBQEkRmY"
      },
      "execution_count": 155,
      "outputs": [
        {
          "output_type": "execute_result",
          "data": {
            "text/plain": [
              "array([[ 3.06800e+03,  2.40000e-03,  1.70000e-01,  1.61200e+01],\n",
              "       [ 3.04200e+03,  5.00000e-04,  1.54200e-01,  1.66000e+01],\n",
              "       [ 2.60000e+03,  3.00000e-04,  1.02000e-01,  1.87000e+01],\n",
              "       [ 2.80000e+03,  2.00000e-04,  1.60000e-01,  1.66500e+01],\n",
              "       [ 1.93900e+03,  1.38000e-04,  1.03000e-01,  2.00600e+01],\n",
              "       [ 2.84000e+03,  6.50000e-04,  1.10000e-01,  1.69800e+01],\n",
              "       [ 2.63700e+03,  7.30000e-04,  1.27000e-01,  1.72200e+01],\n",
              "       [ 2.60000e+03,  4.00000e-04,  9.60000e-02,  1.74000e+01],\n",
              "       [ 2.65000e+03,  6.90000e-04,  1.10000e-01,  1.74500e+01],\n",
              "       [ 2.70000e+03,  1.80000e-04,  1.30000e-01,  1.60500e+01],\n",
              "       [ 3.60000e+03,  2.90000e-03,  5.10000e-01,  1.06900e+01],\n",
              "       [ 3.12900e+03,  1.22000e-02,  3.76100e-01,  1.17900e+01],\n",
              "       [ 3.13400e+03,  4.00000e-04,  1.96000e-01,  1.32100e+01],\n",
              "       [ 3.62800e+03,  5.50000e-03,  3.93000e-01,  1.04800e+01],\n",
              "       [ 2.65000e+03,  6.00000e-04,  1.40000e-01,  1.17820e+01],\n",
              "       [ 3.34000e+03,  3.80000e-03,  2.40000e-01,  1.30700e+01],\n",
              "       [ 2.79900e+03,  1.80000e-03,  1.60000e-01,  1.47900e+01],\n",
              "       [ 3.69200e+03,  3.67000e-03,  4.70000e-01,  1.08000e+01],\n",
              "       [ 3.19200e+03,  3.62000e-03,  1.96700e-01,  1.35300e+01],\n",
              "       [ 3.44100e+03,  3.90000e-02,  3.51000e-01,  1.11800e+01],\n",
              "       [ 2.50000e+04,  5.60000e-02,  8.40000e-03,  1.05800e+01],\n",
              "       [ 7.74000e+03,  4.90000e-04,  1.23400e-02,  1.40200e+01],\n",
              "       [ 7.22000e+03,  1.70000e-04,  1.10000e-02,  1.42300e+01],\n",
              "       [ 8.50000e+03,  5.00000e-04,  1.00000e-02,  1.45000e+01],\n",
              "       [ 1.65000e+04,  1.30000e-02,  1.40000e-02,  1.18900e+01],\n",
              "       [ 1.29900e+04,  8.50000e-05,  9.84000e-03,  1.22300e+01],\n",
              "       [ 8.57000e+03,  8.10000e-04,  9.70000e-03,  1.42000e+01],\n",
              "       [ 7.70000e+03,  1.10000e-04,  1.28000e-02,  1.44700e+01],\n",
              "       [ 1.17900e+04,  1.50000e-04,  1.10000e-02,  1.25900e+01],\n",
              "       [ 7.23000e+03,  8.00000e-05,  1.30000e-02,  1.40800e+01],\n",
              "       [ 3.90000e+04,  2.04000e+05,  1.06000e+01, -4.70000e+00],\n",
              "       [ 3.00000e+04,  2.88400e+04,  6.30000e+00, -4.20000e+00],\n",
              "       [ 1.52760e+04,  1.13600e+03,  7.20000e+00, -1.97000e+00],\n",
              "       [ 9.70000e+03,  7.40000e+01,  2.89000e+00,  1.60000e-01],\n",
              "       [ 5.80000e+03,  8.10000e-01,  9.00000e-01,  5.05000e+00],\n",
              "       [ 8.05200e+03,  8.70000e+00,  1.80000e+00,  2.42000e+00],\n",
              "       [ 6.75700e+03,  1.43000e+00,  1.12000e+00,  2.41000e+00],\n",
              "       [ 6.38000e+03,  1.35000e+00,  9.80000e-01,  2.93000e+00],\n",
              "       [ 5.93600e+03,  1.35700e+00,  1.10600e+00,  4.46000e+00],\n",
              "       [ 5.58700e+03,  8.19000e-01,  9.90000e-01,  5.03000e+00],\n",
              "       [ 3.82600e+03,  2.00000e+05,  1.90000e+01, -6.93000e+00],\n",
              "       [ 3.36500e+03,  3.40000e+05,  2.30000e+01, -6.20000e+00],\n",
              "       [ 3.27000e+03,  1.50000e+05,  8.80000e+01, -6.02000e+00],\n",
              "       [ 3.20000e+03,  1.95000e+05,  1.70000e+01, -7.22000e+00],\n",
              "       [ 3.00800e+03,  2.80000e+05,  2.50000e+01, -6.00000e+00],\n",
              "       [ 3.60000e+03,  3.20000e+05,  2.90000e+01, -6.60000e+00],\n",
              "       [ 3.57500e+03,  1.23000e+05,  4.50000e+01, -6.78000e+00],\n",
              "       [ 3.57400e+03,  2.00000e+05,  8.90000e+01, -5.24000e+00],\n",
              "       [ 3.62500e+03,  1.84000e+05,  8.40000e+01, -6.74000e+00],\n",
              "       [ 3.37500e+04,  2.20000e+05,  2.60000e+01, -6.10000e+00],\n",
              "       [ 3.49000e+03,  2.70000e+05,  1.52000e+03, -9.40000e+00],\n",
              "       [ 3.75000e+03,  2.83000e+05,  1.26000e+03, -7.63000e+00],\n",
              "       [ 3.83400e+03,  2.72000e+05,  1.18300e+03, -9.20000e+00],\n",
              "       [ 3.74900e+03,  5.50000e+05,  1.64800e+03, -8.05000e+00],\n",
              "       [ 3.65000e+03,  3.10000e+05,  1.32400e+03, -7.79000e+00],\n",
              "       [ 3.45000e+03,  2.63000e+05,  1.34900e+03, -1.17500e+01],\n",
              "       [ 3.66000e+03,  3.63000e+05,  1.67300e+03, -1.19200e+01],\n",
              "       [ 3.45000e+03,  1.74000e+05,  1.28400e+03, -1.12800e+01],\n",
              "       [ 3.75200e+03,  2.09000e+05,  9.55000e+02, -1.12400e+01],\n",
              "       [ 3.53500e+03,  1.95000e+05,  1.54600e+03, -1.13600e+01],\n",
              "       [ 3.34100e+03,  5.60000e-03,  5.70000e-02,  1.62300e+01],\n",
              "       [ 3.43200e+03,  6.70000e-04,  1.90000e-01,  1.69400e+01],\n",
              "       [ 2.98300e+03,  2.40000e-04,  9.40000e-02,  1.60900e+01],\n",
              "       [ 2.83500e+03,  3.40000e-04,  9.18000e-02,  1.69600e+01],\n",
              "       [ 2.93500e+03,  1.40000e-04,  1.16000e-01,  1.88900e+01],\n",
              "       [ 3.29500e+03,  9.80000e-04,  1.32000e-01,  1.71300e+01],\n",
              "       [ 2.94500e+03,  3.20000e-04,  9.30000e-02,  1.83400e+01],\n",
              "       [ 2.81700e+03,  9.80000e-04,  9.11000e-02,  1.64500e+01],\n",
              "       [ 2.77400e+03,  3.60000e-04,  1.18000e-01,  1.73900e+01],\n",
              "       [ 2.87100e+03,  7.20000e-04,  1.20000e-01,  1.94300e+01],\n",
              "       [ 3.34500e+03,  2.10000e-02,  2.73000e-01,  1.23000e+01],\n",
              "       [ 3.60700e+03,  2.20000e-02,  3.80000e-01,  1.01200e+01],\n",
              "       [ 3.30400e+03,  8.50000e-03,  1.80000e-01,  1.32000e+01],\n",
              "       [ 3.15000e+03,  8.80000e-03,  3.50000e-01,  1.19400e+01],\n",
              "       [ 3.55000e+03,  4.00000e-03,  2.91000e-01,  1.08900e+01],\n",
              "       [ 3.18000e+03,  1.00000e-03,  3.50000e-01,  1.17600e+01],\n",
              "       [ 2.89000e+03,  3.40000e-03,  2.40000e-01,  1.34600e+01],\n",
              "       [ 3.34200e+03,  1.50000e-03,  3.07000e-01,  1.18700e+01],\n",
              "       [ 2.62100e+03,  6.00000e-04,  9.80000e-02,  1.28100e+01],\n",
              "       [ 3.15800e+03,  1.35000e-03,  1.61000e-01,  1.39800e+01],\n",
              "       [ 7.10000e+03,  2.90000e-04,  1.20000e-02,  1.40900e+01],\n",
              "       [ 1.05740e+04,  1.40000e-04,  9.20000e-03,  1.20200e+01],\n",
              "       [ 8.93000e+03,  5.60000e-04,  9.50000e-03,  1.37800e+01],\n",
              "       [ 1.72000e+04,  9.80000e-04,  1.50000e-02,  1.24500e+01],\n",
              "       [ 1.41000e+04,  6.70000e-04,  8.90000e-03,  1.21700e+01],\n",
              "       [ 9.67500e+03,  4.50000e-04,  1.09000e-02,  1.39800e+01],\n",
              "       [ 1.20100e+04,  7.80000e-04,  9.20000e-03,  1.21300e+01],\n",
              "       [ 1.09800e+04,  7.40000e-04,  8.70000e-03,  1.11900e+01],\n",
              "       [ 1.37200e+04,  1.80000e-04,  8.92000e-03,  1.29700e+01],\n",
              "       [ 1.98600e+04,  1.10000e-03,  1.31000e-02,  1.13400e+01],\n",
              "       [ 5.30000e+03,  5.90000e-01,  9.10000e-01,  5.49000e+00],\n",
              "       [ 4.52600e+03,  1.53000e-01,  8.65000e-01,  6.50600e+00],\n",
              "       [ 4.07700e+03,  8.50000e-02,  7.95000e-01,  6.22800e+00],\n",
              "       [ 4.98000e+03,  3.57000e-01,  1.13000e+00,  4.78000e+00],\n",
              "       [ 9.03000e+03,  4.50000e+01,  2.63000e+00,  1.45000e+00],\n",
              "       [ 1.12500e+04,  6.72000e+02,  6.98000e+00, -2.30000e+00],\n",
              "       [ 5.11200e+03,  6.30000e-01,  8.76000e-01,  4.68000e+00],\n",
              "       [ 7.72000e+03,  7.92000e+00,  1.34000e+00,  2.44000e+00],\n",
              "       [ 1.20980e+04,  6.89000e+02,  7.01000e+00,  2.00000e-02],\n",
              "       [ 3.61080e+04,  1.98000e+05,  1.02000e+01, -4.40000e+00],\n",
              "       [ 3.33000e+04,  2.40000e+05,  1.20000e+01, -6.50000e+00],\n",
              "       [ 4.00000e+04,  8.13000e+05,  1.40000e+01, -6.23000e+00],\n",
              "       [ 2.30000e+04,  1.27000e+05,  3.60000e+01, -5.76000e+00],\n",
              "       [ 1.71200e+04,  2.35000e+05,  8.30000e+01, -6.89000e+00],\n",
              "       [ 1.10960e+04,  1.12000e+05,  1.20000e+01, -5.91000e+00],\n",
              "       [ 1.42450e+04,  2.31000e+05,  4.20000e+01, -6.12000e+00],\n",
              "       [ 2.46300e+04,  3.63000e+05,  6.30000e+01, -5.83000e+00],\n",
              "       [ 1.28930e+04,  1.84000e+05,  3.60000e+01, -6.34000e+00],\n",
              "       [ 2.43450e+04,  1.42000e+05,  5.70000e+01, -6.24000e+00],\n",
              "       [ 3.34210e+04,  3.52000e+05,  6.70000e+01, -5.79000e+00],\n",
              "       [ 3.45900e+03,  1.00000e+05,  1.28900e+03, -1.07000e+01],\n",
              "       [ 3.60500e+03,  1.26000e+05,  1.12400e+03, -1.08100e+01],\n",
              "       [ 3.61500e+03,  2.00000e+05,  1.63500e+03, -1.13300e+01],\n",
              "       [ 3.39900e+03,  1.17000e+05,  1.48600e+03, -1.09200e+01],\n",
              "       [ 3.61000e+03,  1.32000e+05,  1.52200e+03, -1.08600e+01],\n",
              "       [ 3.55300e+03,  1.45000e+05,  1.32400e+03, -1.10300e+01],\n",
              "       [ 4.01500e+03,  2.82000e+05,  1.53400e+03, -1.13900e+01],\n",
              "       [ 3.62500e+03,  7.40000e+04,  8.76000e+02, -1.02500e+01],\n",
              "       [ 6.85000e+03,  2.29000e+05,  1.46700e+03, -1.00700e+01],\n",
              "       [ 3.78000e+03,  2.00000e+05,  1.32400e+03, -1.07000e+01],\n",
              "       [ 3.32300e+03,  4.30000e-04,  9.12000e-02,  1.71600e+01],\n",
              "       [ 3.53100e+03,  9.30000e-04,  9.76000e-02,  1.99400e+01],\n",
              "       [ 3.21800e+03,  5.40000e-04,  1.10000e-01,  2.00200e+01],\n",
              "       [ 3.14600e+03,  1.50000e-04,  9.32000e-02,  1.69200e+01],\n",
              "       [ 3.51100e+03,  6.40000e-04,  1.09000e-01,  1.71200e+01],\n",
              "       [ 3.22500e+03,  7.60000e-04,  1.21000e-01,  1.96300e+01],\n",
              "       [ 2.93500e+03,  8.70000e-04,  9.32000e-02,  1.68800e+01],\n",
              "       [ 2.86100e+03,  1.90000e-04,  8.99000e-02,  1.67100e+01],\n",
              "       [ 2.85600e+03,  8.96000e-04,  7.82000e-02,  1.95600e+01],\n",
              "       [ 2.73100e+03,  4.37000e-04,  8.56000e-02,  1.80900e+01],\n",
              "       [ 3.09500e+03,  1.90000e-04,  4.92000e-01,  1.08700e+01],\n",
              "       [ 3.60700e+03,  2.30000e-04,  3.80000e-01,  1.03400e+01],\n",
              "       [ 3.10000e+03,  8.00000e-03,  3.10000e-01,  1.11700e+01],\n",
              "       [ 2.98900e+03,  8.70000e-03,  3.40000e-01,  1.31200e+01],\n",
              "       [ 3.54200e+03,  9.00000e-04,  6.20000e-01,  1.42300e+01],\n",
              "       [ 3.24300e+03,  2.30000e-03,  7.30000e-01,  1.47500e+01],\n",
              "       [ 3.09100e+03,  8.10000e-03,  2.40000e-01,  1.14300e+01],\n",
              "       [ 3.59800e+03,  1.10000e-03,  5.60000e-01,  1.42600e+01],\n",
              "       [ 3.32400e+03,  3.40000e-03,  3.40000e-01,  1.22300e+01],\n",
              "       [ 3.54100e+03,  1.30000e-03,  2.56000e-01,  1.43300e+01],\n",
              "       [ 1.34200e+04,  5.90000e-04,  9.81000e-03,  1.36700e+01],\n",
              "       [ 2.10200e+04,  1.50000e-03,  1.12000e-02,  1.15200e+01],\n",
              "       [ 1.82900e+04,  1.30000e-03,  9.34000e-03,  1.27800e+01],\n",
              "       [ 1.45200e+04,  8.20000e-04,  9.72000e-03,  1.19200e+01],\n",
              "       [ 1.19000e+04,  6.70000e-04,  8.98000e-03,  1.13800e+01],\n",
              "       [ 8.92400e+03,  2.80000e-04,  8.79000e-03,  1.48700e+01],\n",
              "       [ 1.29120e+04,  7.10000e-04,  9.45000e-03,  1.28300e+01],\n",
              "       [ 1.47320e+04,  1.10000e-04,  8.92000e-03,  1.28900e+01],\n",
              "       [ 7.72300e+03,  1.40000e-04,  8.78000e-03,  1.48100e+01],\n",
              "       [ 1.29840e+04,  8.80000e-04,  9.96000e-03,  1.12300e+01],\n",
              "       [ 2.95600e+04,  1.88000e+05,  6.02000e+00, -4.01000e+00],\n",
              "       [ 8.94500e+03,  3.80000e+01,  2.48700e+00,  1.20000e-01],\n",
              "       [ 1.40600e+04,  1.09200e+03,  5.74500e+00, -2.04000e+00],\n",
              "       [ 1.63900e+04,  1.27800e+03,  5.68000e+00, -3.32000e+00],\n",
              "       [ 2.50700e+04,  1.45000e+04,  5.92000e+00, -3.98000e+00],\n",
              "       [ 2.87000e+04,  1.67900e+04,  6.40000e+00, -4.09000e+00],\n",
              "       [ 2.61400e+04,  1.45200e+04,  5.49000e+00, -3.80000e+00],\n",
              "       [ 2.01200e+04,  4.72000e+03,  6.78000e+00, -3.40000e+00],\n",
              "       [ 1.30230e+04,  9.98000e+02,  6.21000e+00, -1.38000e+00],\n",
              "       [ 3.78000e+04,  2.02900e+05,  6.86000e+00, -4.56000e+00],\n",
              "       [ 2.53900e+04,  2.23000e+05,  5.70000e+01, -5.92000e+00],\n",
              "       [ 1.15670e+04,  2.51000e+05,  3.60000e+01, -6.24500e+00],\n",
              "       [ 1.26750e+04,  4.52000e+05,  8.30000e+01, -5.62000e+00],\n",
              "       [ 5.75200e+03,  2.45000e+05,  9.70000e+01, -6.63000e+00],\n",
              "       [ 8.92700e+03,  2.39000e+05,  3.50000e+01, -7.34000e+00],\n",
              "       [ 7.28200e+03,  1.31000e+05,  2.40000e+01, -7.22000e+00],\n",
              "       [ 1.99230e+04,  1.52000e+05,  7.30000e+01, -5.69000e+00],\n",
              "       [ 2.63730e+04,  1.98000e+05,  3.90000e+01, -5.83000e+00],\n",
              "       [ 1.73830e+04,  3.42900e+05,  3.00000e+01, -6.09000e+00],\n",
              "       [ 9.37300e+03,  4.24520e+05,  2.40000e+01, -5.99000e+00],\n",
              "       [ 3.57000e+03,  3.20000e+05,  1.48000e+03, -7.58000e+00],\n",
              "       [ 3.50000e+03,  1.38000e+05,  1.42000e+03, -8.18000e+00],\n",
              "       [ 4.28700e+03,  6.30000e+05,  1.31500e+03, -9.20000e+00],\n",
              "       [ 2.60000e+04,  3.16000e+05,  1.67900e+03, -9.10000e+00],\n",
              "       [ 3.60000e+03,  2.40000e+05,  1.19000e+03, -7.89000e+00],\n",
              "       [ 3.61400e+03,  1.45000e+05,  1.55300e+03, -7.71000e+00],\n",
              "       [ 1.80000e+04,  2.00000e+05,  1.04500e+03, -8.30000e+00],\n",
              "       [ 1.10000e+04,  1.70000e+05,  1.77900e+03, -9.90000e+00],\n",
              "       [ 1.21000e+04,  1.20000e+05,  7.08900e+02, -7.84000e+00],\n",
              "       [ 2.44900e+04,  2.48490e+05,  1.13450e+03, -8.24000e+00],\n",
              "       [ 2.83100e+03,  2.31000e-04,  9.15000e-02,  1.62100e+01],\n",
              "       [ 2.91400e+03,  6.31000e-04,  1.16000e-01,  1.83900e+01],\n",
              "       [ 3.41900e+03,  2.45000e-04,  1.26000e-01,  1.75600e+01],\n",
              "       [ 3.21800e+03,  4.52000e-04,  9.87000e-02,  1.73400e+01],\n",
              "       [ 3.45300e+03,  6.21000e-04,  7.73000e-02,  1.70800e+01],\n",
              "       [ 2.88900e+03,  3.52000e-04,  9.73000e-02,  1.69300e+01],\n",
              "       [ 2.96800e+03,  4.61000e-04,  1.19000e-01,  1.74500e+01],\n",
              "       [ 3.48400e+03,  5.51000e-04,  9.98000e-02,  1.66700e+01],\n",
              "       [ 2.77800e+03,  8.49000e-04,  1.12000e-01,  1.94500e+01],\n",
              "       [ 3.52300e+03,  9.57000e-04,  1.29000e-01,  1.63500e+01],\n",
              "       [ 3.46200e+03,  5.30000e-03,  1.48000e-01,  1.14700e+01],\n",
              "       [ 3.25700e+03,  2.40000e-03,  4.60000e-01,  1.07300e+01],\n",
              "       [ 2.99400e+03,  7.20000e-03,  2.80000e-01,  1.34500e+01],\n",
              "       [ 3.21200e+03,  1.60000e-03,  3.78000e-01,  1.28540e+01],\n",
              "       [ 3.52300e+03,  5.40000e-03,  3.19000e-01,  1.24300e+01],\n",
              "       [ 3.59800e+03,  2.70000e-03,  6.70000e-01,  1.36670e+01],\n",
              "       [ 3.14200e+03,  1.32000e-03,  2.58000e-01,  1.41200e+01],\n",
              "       [ 3.49600e+03,  1.25000e-03,  3.36000e-01,  1.49400e+01],\n",
              "       [ 3.32400e+03,  6.50000e-03,  4.71000e-01,  1.27800e+01],\n",
              "       [ 3.46300e+03,  2.70000e-03,  6.75000e-01,  1.47760e+01],\n",
              "       [ 1.67900e+04,  1.40000e-03,  1.21000e-02,  1.28700e+01],\n",
              "       [ 1.56800e+04,  1.22000e-03,  1.14000e-02,  1.19200e+01],\n",
              "       [ 1.49820e+04,  1.18000e-03,  1.13000e-02,  1.22300e+01],\n",
              "       [ 1.33400e+04,  1.09000e-03,  1.16000e-02,  1.29000e+01],\n",
              "       [ 1.83400e+04,  1.34000e-03,  1.24000e-02,  1.12200e+01],\n",
              "       [ 1.99200e+04,  1.56000e-03,  1.42000e-02,  1.13400e+01],\n",
              "       [ 2.40200e+04,  1.59000e-03,  1.27000e-02,  1.05500e+01],\n",
              "       [ 2.30920e+04,  1.32000e-03,  1.04000e-02,  1.01800e+01],\n",
              "       [ 1.79200e+04,  1.11000e-03,  1.06000e-02,  1.16600e+01],\n",
              "       [ 1.93600e+04,  1.25000e-03,  9.98000e-03,  1.16200e+01],\n",
              "       [ 2.23500e+04,  1.24500e+04,  6.36000e+00, -3.67000e+00],\n",
              "       [ 1.00120e+04,  5.52000e+02,  5.85600e+00,  1.30000e-02],\n",
              "       [ 1.30890e+04,  7.88000e+02,  5.99200e+00, -1.20000e-01],\n",
              "       [ 2.20120e+04,  6.74800e+03,  6.64000e+00, -2.55000e+00],\n",
              "       [ 3.41900e+04,  1.98200e+05,  6.39000e+00, -4.57000e+00],\n",
              "       [ 3.24600e+04,  1.73800e+05,  6.23700e+00, -4.36000e+00],\n",
              "       [ 9.32000e+03,  2.90000e+01,  1.91000e+00,  1.23600e+00],\n",
              "       [ 1.94000e+04,  1.09200e+04,  6.03000e+00, -3.08000e+00],\n",
              "       [ 1.71400e+04,  8.83000e+02,  5.65300e+00, -2.64000e+00],\n",
              "       [ 8.25000e+03,  9.25000e+00,  1.93000e+00, -9.80000e-01],\n",
              "       [ 2.36780e+04,  2.44290e+05,  3.50000e+01, -6.27000e+00],\n",
              "       [ 1.27490e+04,  3.32520e+05,  7.60000e+01, -7.02000e+00],\n",
              "       [ 9.38300e+03,  3.42940e+05,  9.80000e+01, -6.98000e+00],\n",
              "       [ 2.34400e+04,  5.37430e+05,  8.10000e+01, -5.97500e+00],\n",
              "       [ 1.67870e+04,  2.46730e+05,  6.20000e+01, -6.35000e+00],\n",
              "       [ 1.87340e+04,  2.24780e+05,  4.60000e+01, -7.45000e+00],\n",
              "       [ 9.89200e+03,  5.93900e+05,  8.00000e+01, -7.26200e+00],\n",
              "       [ 1.09300e+04,  7.83930e+05,  2.50000e+01, -6.22400e+00],\n",
              "       [ 2.30950e+04,  3.47820e+05,  8.60000e+01, -5.90500e+00],\n",
              "       [ 2.17380e+04,  7.48890e+05,  9.20000e+01, -7.34600e+00],\n",
              "       [ 2.41450e+04,  3.82993e+05,  1.49400e+03, -8.84000e+00],\n",
              "       [ 3.82340e+04,  2.72830e+05,  1.35600e+03, -9.29000e+00],\n",
              "       [ 3.24890e+04,  6.48430e+05,  1.94850e+03, -1.08400e+01],\n",
              "       [ 2.77390e+04,  8.49420e+05,  1.25200e+03, -7.59000e+00],\n",
              "       [ 2.19040e+04,  7.48490e+05,  1.13000e+03, -7.67000e+00],\n",
              "       [ 3.89400e+04,  3.74830e+05,  1.35600e+03, -9.93000e+00],\n",
              "       [ 3.08390e+04,  8.34042e+05,  1.19400e+03, -1.06300e+01],\n",
              "       [ 8.82900e+03,  5.37493e+05,  1.42300e+03, -1.07300e+01],\n",
              "       [ 9.23500e+03,  4.04940e+05,  1.11200e+03, -1.12300e+01],\n",
              "       [ 3.78820e+04,  2.94903e+05,  1.78300e+03, -7.80000e+00]])"
            ]
          },
          "metadata": {},
          "execution_count": 155
        }
      ]
    },
    {
      "cell_type": "code",
      "source": [
        "X_train, X_test, y_train, y_test = train_test_split(x,y, test_size=0.2, random_state=42)\n",
        "\n",
        "print(X_train.shape, X_test.shape, y_train.shape, y_test.shape)"
      ],
      "metadata": {
        "colab": {
          "base_uri": "https://localhost:8080/"
        },
        "outputId": "afe6b731-40c4-44c1-ca42-21bd16234b56",
        "id": "1Qsk78JokRmY"
      },
      "execution_count": 156,
      "outputs": [
        {
          "output_type": "stream",
          "name": "stdout",
          "text": [
            "(192, 4) (48, 4) (192,) (48,)\n"
          ]
        }
      ]
    },
    {
      "cell_type": "markdown",
      "source": [
        "### Train Model"
      ],
      "metadata": {
        "id": "XVuCuLXTkRmY"
      }
    },
    {
      "cell_type": "code",
      "source": [
        "score = []\n",
        "k_range = list(range(1, 101))\n",
        "best_k = 0;\n",
        "best_score = float('-inf')\n",
        "\n",
        "for k in k_range:\n",
        "  knn_model = KNeighborsClassifier(n_neighbors=k)\n",
        "  knn_model.fit(X_train, y_train) # Train Model\n",
        "\n",
        "  y_pred = knn_model.predict(X_test) # Predict labels for test set\n",
        "  if knn_model.score(X_test, y_test) > best_score:\n",
        "    best_score = knn_model.score(X_test, y_test)\n",
        "    best_k = k\n",
        "    print(f\"Best model - k = {k}, Accuracy: {best_score}\")\n",
        "\n",
        "  score.append(knn_model.score(X_test, y_test))"
      ],
      "metadata": {
        "colab": {
          "base_uri": "https://localhost:8080/"
        },
        "outputId": "3f23d793-b076-4e72-8157-3ceeff1e5448",
        "id": "9mQB1d0pkRmY"
      },
      "execution_count": 157,
      "outputs": [
        {
          "output_type": "stream",
          "name": "stdout",
          "text": [
            "Best model - k = 1, Accuracy: 0.7708333333333334\n"
          ]
        }
      ]
    },
    {
      "cell_type": "code",
      "source": [
        "plt.plot(range(1,101), score)\n",
        "plt.xlabel('Value of k for KNN')\n",
        "plt.ylabel('Accuracy Score')\n",
        "plt.title('Accuracy Scores for Values of k of k-Nearest-Neighbors')\n",
        "plt.show()"
      ],
      "metadata": {
        "colab": {
          "base_uri": "https://localhost:8080/",
          "height": 472
        },
        "outputId": "0b7588bd-dafc-4313-e565-6474106b56ab",
        "id": "z6zu6VrmkRmY"
      },
      "execution_count": 158,
      "outputs": [
        {
          "output_type": "display_data",
          "data": {
            "text/plain": [
              "<Figure size 640x480 with 1 Axes>"
            ],
            "image/png": "[encoded data removed]"
          },
          "metadata": {}
        }
      ]
    },
    {
      "cell_type": "code",
      "source": [
        "model = KNeighborsClassifier(n_neighbors=best_k)\n",
        "model.fit(X_train, y_train)"
      ],
      "metadata": {
        "colab": {
          "base_uri": "https://localhost:8080/",
          "height": 74
        },
        "outputId": "1f961a0b-e047-4138-b2c2-bb20e91e69c7",
        "id": "GM3wlOG0kRmY"
      },
      "execution_count": 159,
      "outputs": [
        {
          "output_type": "execute_result",
          "data": {
            "text/plain": [
              "KNeighborsClassifier(n_neighbors=1)"
            ],
            "text/html": [
              "<style>#sk-container-id-5 {color: black;}#sk-container-id-5 pre{padding: 0;}#sk-container-id-5 div.sk-toggleable {background-color: white;}#sk-container-id-5 label.sk-toggleable__label {cursor: pointer;display: block;width: 100%;margin-bottom: 0;padding: 0.3em;box-sizing: border-box;text-align: center;}#sk-container-id-5 label.sk-toggleable__label-arrow:before {content: \"▸\";float: left;margin-right: 0.25em;color: #696969;}#sk-container-id-5 label.sk-toggleable__label-arrow:hover:before {color: black;}#sk-container-id-5 div.sk-estimator:hover label.sk-toggleable__label-arrow:before {color: black;}#sk-container-id-5 div.sk-toggleable__content {max-height: 0;max-width: 0;overflow: hidden;text-align: left;background-color: #f0f8ff;}#sk-container-id-5 div.sk-toggleable__content pre {margin: 0.2em;color: black;border-radius: 0.25em;background-color: #f0f8ff;}#sk-container-id-5 input.sk-toggleable__control:checked~div.sk-toggleable__content {max-height: 200px;max-width: 100%;overflow: auto;}#sk-container-id-5 input.sk-toggleable__control:checked~label.sk-toggleable__label-arrow:before {content: \"▾\";}#sk-container-id-5 div.sk-estimator input.sk-toggleable__control:checked~label.sk-toggleable__label {background-color: #d4ebff;}#sk-container-id-5 div.sk-label input.sk-toggleable__control:checked~label.sk-toggleable__label {background-color: #d4ebff;}#sk-container-id-5 input.sk-hidden--visually {border: 0;clip: rect(1px 1px 1px 1px);clip: rect(1px, 1px, 1px, 1px);height: 1px;margin: -1px;overflow: hidden;padding: 0;position: absolute;width: 1px;}#sk-container-id-5 div.sk-estimator {font-family: monospace;background-color: #f0f8ff;border: 1px dotted black;border-radius: 0.25em;box-sizing: border-box;margin-bottom: 0.5em;}#sk-container-id-5 div.sk-estimator:hover {background-color: #d4ebff;}#sk-container-id-5 div.sk-parallel-item::after {content: \"\";width: 100%;border-bottom: 1px solid gray;flex-grow: 1;}#sk-container-id-5 div.sk-label:hover label.sk-toggleable__label {background-color: #d4ebff;}#sk-container-id-5 div.sk-serial::before {content: \"\";position: absolute;border-left: 1px solid gray;box-sizing: border-box;top: 0;bottom: 0;left: 50%;z-index: 0;}#sk-container-id-5 div.sk-serial {display: flex;flex-direction: column;align-items: center;background-color: white;padding-right: 0.2em;padding-left: 0.2em;position: relative;}#sk-container-id-5 div.sk-item {position: relative;z-index: 1;}#sk-container-id-5 div.sk-parallel {display: flex;align-items: stretch;justify-content: center;background-color: white;position: relative;}#sk-container-id-5 div.sk-item::before, #sk-container-id-5 div.sk-parallel-item::before {content: \"\";position: absolute;border-left: 1px solid gray;box-sizing: border-box;top: 0;bottom: 0;left: 50%;z-index: -1;}#sk-container-id-5 div.sk-parallel-item {display: flex;flex-direction: column;z-index: 1;position: relative;background-color: white;}#sk-container-id-5 div.sk-parallel-item:first-child::after {align-self: flex-end;width: 50%;}#sk-container-id-5 div.sk-parallel-item:last-child::after {align-self: flex-start;width: 50%;}#sk-container-id-5 div.sk-parallel-item:only-child::after {width: 0;}#sk-container-id-5 div.sk-dashed-wrapped {border: 1px dashed gray;margin: 0 0.4em 0.5em 0.4em;box-sizing: border-box;padding-bottom: 0.4em;background-color: white;}#sk-container-id-5 div.sk-label label {font-family: monospace;font-weight: bold;display: inline-block;line-height: 1.2em;}#sk-container-id-5 div.sk-label-container {text-align: center;}#sk-container-id-5 div.sk-container {/* jupyter's `normalize.less` sets `[hidden] { display: none; }` but bootstrap.min.css set `[hidden] { display: none !important; }` so we also need the `!important` here to be able to override the default hidden behavior on the sphinx rendered scikit-learn.org. See: https://github.com/scikit-learn/scikit-learn/issues/21755 */display: inline-block !important;position: relative;}#sk-container-id-5 div.sk-text-repr-fallback {display: none;}</style><div id=\"sk-container-id-5\" class=\"sk-top-container\"><div class=\"sk-text-repr-fallback\"><pre>KNeighborsClassifier(n_neighbors=1)</pre><b>In a Jupyter environment, please rerun this cell to show the HTML representation or trust the notebook. <br />On GitHub, the HTML representation is unable to render, please try loading this page with nbviewer.org.</b></div><div class=\"sk-container\" hidden><div class=\"sk-item\"><div class=\"sk-estimator sk-toggleable\"><input class=\"sk-toggleable__control sk-hidden--visually\" id=\"sk-estimator-id-5\" type=\"checkbox\" checked><label for=\"sk-estimator-id-5\" class=\"sk-toggleable__label sk-toggleable__label-arrow\">KNeighborsClassifier</label><div class=\"sk-toggleable__content\"><pre>KNeighborsClassifier(n_neighbors=1)</pre></div></div></div></div></div>"
            ]
          },
          "metadata": {},
          "execution_count": 159
        }
      ]
    },
    {
      "cell_type": "code",
      "source": [
        "y_pred = model.predict(X_test)"
      ],
      "metadata": {
        "id": "UF16ykLKkRmZ"
      },
      "execution_count": 160,
      "outputs": []
    },
    {
      "cell_type": "code",
      "source": [
        "print(classification_report(y_test, y_pred))"
      ],
      "metadata": {
        "colab": {
          "base_uri": "https://localhost:8080/"
        },
        "outputId": "e2774073-f5a8-4d0c-caaa-f2f875d11e81",
        "id": "TcNyANKJkRmZ"
      },
      "execution_count": 161,
      "outputs": [
        {
          "output_type": "stream",
          "name": "stdout",
          "text": [
            "              precision    recall  f1-score   support\n",
            "\n",
            "           0       0.78      0.88      0.82         8\n",
            "           1       0.83      0.71      0.77         7\n",
            "           2       1.00      1.00      1.00         6\n",
            "           3       1.00      0.88      0.93         8\n",
            "           4       0.50      0.62      0.56         8\n",
            "           5       0.70      0.64      0.67        11\n",
            "\n",
            "    accuracy                           0.77        48\n",
            "   macro avg       0.80      0.79      0.79        48\n",
            "weighted avg       0.79      0.77      0.78        48\n",
            "\n"
          ]
        }
      ]
    },
    {
      "cell_type": "code",
      "source": [],
      "metadata": {
        "id": "S_KdNcStkRmZ"
      },
      "execution_count": null,
      "outputs": []
    }
  ]
}