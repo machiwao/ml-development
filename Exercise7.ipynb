{
  "nbformat": 4,
  "nbformat_minor": 0,
  "metadata": {
    "colab": {
      "provenance": [],
      "include_colab_link": true
    },
    "kernelspec": {
      "name": "python3",
      "display_name": "Python 3"
    },
    "language_info": {
      "name": "python"
    }
  },
  "cells": [
    {
      "cell_type": "markdown",
      "metadata": {
        "id": "view-in-github",
        "colab_type": "text"
      },
      "source": [
        "<a href=\"https://colab.research.google.com/github/machiwao/ml-development/blob/main/Exercise7.ipynb\" target=\"_parent\"><img src=\"https://colab.research.google.com/assets/colab-badge.svg\" alt=\"Open In Colab\"/></a>"
      ]
    },
    {
      "cell_type": "markdown",
      "source": [
        "# Exercise 7: Hate Speech Classification using Multinomial Naive Bayes\n",
        "\n",
        "Instructions:\n",
        "- You do not need to split your data. Use the training, validation and test sets provided below.\n",
        "- Use Multinomial Naive Bayes to train a model that can classify if a sentence is a hate speech or non-hate speech\n",
        "- A sentence with a label of zero (0) is classified as non-hate speech\n",
        "- A sentence with a label of one (1) is classified as a hate speech\n",
        "\n",
        "Apply text pre-processing techniques such as\n",
        "- Converting to lowercase\n",
        "- Stop word Removal\n",
        "- Removal of digits, special characters\n",
        "- Stemming or Lemmatization but not both\n",
        "- Count Vectorizer or TF-IDF Vectorizer but not both\n",
        "\n",
        "Evaluate your model by:\n",
        "- Providing input by yourself\n",
        "- Creating a Confusion Matrix\n",
        "- Calculating the Accuracy, Precision, Recall and F1-Score"
      ],
      "metadata": {
        "id": "2GaQuj0Ihf9s"
      }
    },
    {
      "cell_type": "code",
      "execution_count": 388,
      "metadata": {
        "id": "k7PqvnUChZy6",
        "colab": {
          "base_uri": "https://localhost:8080/"
        },
        "outputId": "901c824d-f350-46d6-d397-88651f608620"
      },
      "outputs": [
        {
          "output_type": "stream",
          "name": "stderr",
          "text": [
            "[nltk_data] Downloading package punkt to /root/nltk_data...\n",
            "[nltk_data]   Package punkt is already up-to-date!\n",
            "[nltk_data] Downloading package wordnet to /root/nltk_data...\n",
            "[nltk_data]   Package wordnet is already up-to-date!\n",
            "[nltk_data] Downloading package stopwords to /root/nltk_data...\n",
            "[nltk_data]   Package stopwords is already up-to-date!\n"
          ]
        },
        {
          "output_type": "stream",
          "name": "stdout",
          "text": [
            "Requirement already satisfied: stanza in /usr/local/lib/python3.10/dist-packages (1.9.2)\n",
            "Requirement already satisfied: emoji in /usr/local/lib/python3.10/dist-packages (from stanza) (2.14.0)\n",
            "Requirement already satisfied: numpy in /usr/local/lib/python3.10/dist-packages (from stanza) (1.26.4)\n",
            "Requirement already satisfied: protobuf>=3.15.0 in /usr/local/lib/python3.10/dist-packages (from stanza) (3.20.3)\n",
            "Requirement already satisfied: requests in /usr/local/lib/python3.10/dist-packages (from stanza) (2.32.3)\n",
            "Requirement already satisfied: networkx in /usr/local/lib/python3.10/dist-packages (from stanza) (3.3)\n",
            "Requirement already satisfied: torch>=1.3.0 in /usr/local/lib/python3.10/dist-packages (from stanza) (2.4.1+cu121)\n",
            "Requirement already satisfied: tqdm in /usr/local/lib/python3.10/dist-packages (from stanza) (4.66.5)\n",
            "Requirement already satisfied: tomli in /usr/local/lib/python3.10/dist-packages (from stanza) (2.0.1)\n",
            "Requirement already satisfied: filelock in /usr/local/lib/python3.10/dist-packages (from torch>=1.3.0->stanza) (3.16.1)\n",
            "Requirement already satisfied: typing-extensions>=4.8.0 in /usr/local/lib/python3.10/dist-packages (from torch>=1.3.0->stanza) (4.12.2)\n",
            "Requirement already satisfied: sympy in /usr/local/lib/python3.10/dist-packages (from torch>=1.3.0->stanza) (1.13.3)\n",
            "Requirement already satisfied: jinja2 in /usr/local/lib/python3.10/dist-packages (from torch>=1.3.0->stanza) (3.1.4)\n",
            "Requirement already satisfied: fsspec in /usr/local/lib/python3.10/dist-packages (from torch>=1.3.0->stanza) (2024.6.1)\n",
            "Requirement already satisfied: charset-normalizer<4,>=2 in /usr/local/lib/python3.10/dist-packages (from requests->stanza) (3.3.2)\n",
            "Requirement already satisfied: idna<4,>=2.5 in /usr/local/lib/python3.10/dist-packages (from requests->stanza) (3.10)\n",
            "Requirement already satisfied: urllib3<3,>=1.21.1 in /usr/local/lib/python3.10/dist-packages (from requests->stanza) (2.2.3)\n",
            "Requirement already satisfied: certifi>=2017.4.17 in /usr/local/lib/python3.10/dist-packages (from requests->stanza) (2024.8.30)\n",
            "Requirement already satisfied: MarkupSafe>=2.0 in /usr/local/lib/python3.10/dist-packages (from jinja2->torch>=1.3.0->stanza) (2.1.5)\n",
            "Requirement already satisfied: mpmath<1.4,>=1.1.0 in /usr/local/lib/python3.10/dist-packages (from sympy->torch>=1.3.0->stanza) (1.3.0)\n"
          ]
        }
      ],
      "source": [
        "import numpy as np\n",
        "import matplotlib.pyplot as plt\n",
        "import pandas as pd\n",
        "import nltk\n",
        "import seaborn as sns\n",
        "import re\n",
        "import os, types\n",
        "\n",
        "from sklearn.feature_extraction.text import CountVectorizer, TfidfVectorizer\n",
        "from sklearn.metrics import roc_auc_score, roc_curve, confusion_matrix, precision_score, recall_score, accuracy_score, balanced_accuracy_score, ConfusionMatrixDisplay, classification_report\n",
        "from sklearn.model_selection import train_test_split\n",
        "from sklearn.naive_bayes import MultinomialNB\n",
        "\n",
        "from nltk import FreqDist\n",
        "from nltk.stem import WordNetLemmatizer\n",
        "from nltk.stem import PorterStemmer\n",
        "from nltk.tokenize import word_tokenize\n",
        "from nltk.corpus import stopwords\n",
        "\n",
        "nltk.download(\"punkt\")\n",
        "nltk.download('wordnet')\n",
        "nltk.download('stopwords')\n",
        "\n",
        "!pip install stanza\n",
        "import stanza"
      ]
    },
    {
      "cell_type": "code",
      "source": [
        "splits = {'train': 'unique_train_dataset.csv', 'validation': 'unique_validation_dataset.csv', 'test': 'unique_test_dataset.csv'}"
      ],
      "metadata": {
        "id": "rJNoJf2gkaou"
      },
      "execution_count": 389,
      "outputs": []
    },
    {
      "cell_type": "markdown",
      "source": [
        "**Training Set**\n",
        "\n",
        "Use this to train your model"
      ],
      "metadata": {
        "id": "LszdWP_3jN7z"
      }
    },
    {
      "cell_type": "code",
      "source": [
        "df_train = pd.read_csv(\"hf://datasets/mapsoriano/2016_2022_hate_speech_filipino/\" + splits[\"train\"])"
      ],
      "metadata": {
        "id": "WMeIHIHWlR3-"
      },
      "execution_count": 390,
      "outputs": []
    },
    {
      "cell_type": "markdown",
      "source": [
        "**Validation Set**\n",
        "\n",
        "Use this set to evaluate your model"
      ],
      "metadata": {
        "id": "iQIg6P7PjQBo"
      }
    },
    {
      "cell_type": "code",
      "source": [
        "df_validation = pd.read_csv(\"hf://datasets/mapsoriano/2016_2022_hate_speech_filipino/\" + splits[\"validation\"])"
      ],
      "metadata": {
        "id": "VRB2t37Nk6A6"
      },
      "execution_count": 391,
      "outputs": []
    },
    {
      "cell_type": "markdown",
      "source": [
        "**Test Set**\n",
        "  \n",
        "Use this set to test your model"
      ],
      "metadata": {
        "id": "9zDlyRsEnOSR"
      }
    },
    {
      "cell_type": "code",
      "source": [
        "df_test = pd.read_csv(\"hf://datasets/mapsoriano/2016_2022_hate_speech_filipino/\" + splits[\"test\"])"
      ],
      "metadata": {
        "id": "OxpoTxoilJ7e"
      },
      "execution_count": 392,
      "outputs": []
    },
    {
      "cell_type": "markdown",
      "source": [
        "## A. Understanding your training data"
      ],
      "metadata": {
        "id": "Q4mSMMNIgKhZ"
      }
    },
    {
      "cell_type": "markdown",
      "source": [
        "1. Check the first 10 rows of the training dataset"
      ],
      "metadata": {
        "id": "h0rMaAu9gq1G"
      }
    },
    {
      "cell_type": "code",
      "source": [
        "# put your answer here\n",
        "df_train.head(10)"
      ],
      "metadata": {
        "id": "dXIzpHtzguWw",
        "colab": {
          "base_uri": "https://localhost:8080/",
          "height": 363
        },
        "outputId": "aeb8f0cd-4ff2-483d-f4a5-5ba340adda60"
      },
      "execution_count": 393,
      "outputs": [
        {
          "output_type": "execute_result",
          "data": {
            "text/plain": [
              "                                                text  label\n",
              "0  Presidential candidate Mar Roxas implies that ...      1\n",
              "1  Parang may mali na sumunod ang patalastas ng N...      1\n",
              "2                    Bet ko. Pula Ang Kulay Ng Posas      1\n",
              "3                               [USERNAME] kakampink      0\n",
              "4  Bakit parang tahimik ang mga PINK about Doc Wi...      1\n",
              "5  \"Ang sinungaling sa umpisa ay sinungaling hang...      1\n",
              "6                                          Leni Kiko      0\n",
              "7  Nahiya si Binay sa Makati kaya dito na lang sa...      1\n",
              "8                            Another reminderHalalan      0\n",
              "9  [USERNAME] Maybe because VP Leni Sen Kiko and ...      0"
            ],
            "text/html": [
              "\n",
              "  <div id=\"df-accdb2b2-b50a-47c7-94f1-308c758e8a16\" class=\"colab-df-container\">\n",
              "    <div>\n",
              "<style scoped>\n",
              "    .dataframe tbody tr th:only-of-type {\n",
              "        vertical-align: middle;\n",
              "    }\n",
              "\n",
              "    .dataframe tbody tr th {\n",
              "        vertical-align: top;\n",
              "    }\n",
              "\n",
              "    .dataframe thead th {\n",
              "        text-align: right;\n",
              "    }\n",
              "</style>\n",
              "<table border=\"1\" class=\"dataframe\">\n",
              "  <thead>\n",
              "    <tr style=\"text-align: right;\">\n",
              "      <th></th>\n",
              "      <th>text</th>\n",
              "      <th>label</th>\n",
              "    </tr>\n",
              "  </thead>\n",
              "  <tbody>\n",
              "    <tr>\n",
              "      <th>0</th>\n",
              "      <td>Presidential candidate Mar Roxas implies that ...</td>\n",
              "      <td>1</td>\n",
              "    </tr>\n",
              "    <tr>\n",
              "      <th>1</th>\n",
              "      <td>Parang may mali na sumunod ang patalastas ng N...</td>\n",
              "      <td>1</td>\n",
              "    </tr>\n",
              "    <tr>\n",
              "      <th>2</th>\n",
              "      <td>Bet ko. Pula Ang Kulay Ng Posas</td>\n",
              "      <td>1</td>\n",
              "    </tr>\n",
              "    <tr>\n",
              "      <th>3</th>\n",
              "      <td>[USERNAME] kakampink</td>\n",
              "      <td>0</td>\n",
              "    </tr>\n",
              "    <tr>\n",
              "      <th>4</th>\n",
              "      <td>Bakit parang tahimik ang mga PINK about Doc Wi...</td>\n",
              "      <td>1</td>\n",
              "    </tr>\n",
              "    <tr>\n",
              "      <th>5</th>\n",
              "      <td>\"Ang sinungaling sa umpisa ay sinungaling hang...</td>\n",
              "      <td>1</td>\n",
              "    </tr>\n",
              "    <tr>\n",
              "      <th>6</th>\n",
              "      <td>Leni Kiko</td>\n",
              "      <td>0</td>\n",
              "    </tr>\n",
              "    <tr>\n",
              "      <th>7</th>\n",
              "      <td>Nahiya si Binay sa Makati kaya dito na lang sa...</td>\n",
              "      <td>1</td>\n",
              "    </tr>\n",
              "    <tr>\n",
              "      <th>8</th>\n",
              "      <td>Another reminderHalalan</td>\n",
              "      <td>0</td>\n",
              "    </tr>\n",
              "    <tr>\n",
              "      <th>9</th>\n",
              "      <td>[USERNAME] Maybe because VP Leni Sen Kiko and ...</td>\n",
              "      <td>0</td>\n",
              "    </tr>\n",
              "  </tbody>\n",
              "</table>\n",
              "</div>\n",
              "    <div class=\"colab-df-buttons\">\n",
              "\n",
              "  <div class=\"colab-df-container\">\n",
              "    <button class=\"colab-df-convert\" onclick=\"convertToInteractive('df-accdb2b2-b50a-47c7-94f1-308c758e8a16')\"\n",
              "            title=\"Convert this dataframe to an interactive table.\"\n",
              "            style=\"display:none;\">\n",
              "\n",
              "  <svg xmlns=\"http://www.w3.org/2000/svg\" height=\"24px\" viewBox=\"0 -960 960 960\">\n",
              "    <path d=\"M120-120v-720h720v720H120Zm60-500h600v-160H180v160Zm220 220h160v-160H400v160Zm0 220h160v-160H400v160ZM180-400h160v-160H180v160Zm440 0h160v-160H620v160ZM180-180h160v-160H180v160Zm440 0h160v-160H620v160Z\"/>\n",
              "  </svg>\n",
              "    </button>\n",
              "\n",
              "  <style>\n",
              "    .colab-df-container {\n",
              "      display:flex;\n",
              "      gap: 12px;\n",
              "    }\n",
              "\n",
              "    .colab-df-convert {\n",
              "      background-color: #E8F0FE;\n",
              "      border: none;\n",
              "      border-radius: 50%;\n",
              "      cursor: pointer;\n",
              "      display: none;\n",
              "      fill: #1967D2;\n",
              "      height: 32px;\n",
              "      padding: 0 0 0 0;\n",
              "      width: 32px;\n",
              "    }\n",
              "\n",
              "    .colab-df-convert:hover {\n",
              "      background-color: #E2EBFA;\n",
              "      box-shadow: 0px 1px 2px rgba(60, 64, 67, 0.3), 0px 1px 3px 1px rgba(60, 64, 67, 0.15);\n",
              "      fill: #174EA6;\n",
              "    }\n",
              "\n",
              "    .colab-df-buttons div {\n",
              "      margin-bottom: 4px;\n",
              "    }\n",
              "\n",
              "    [theme=dark] .colab-df-convert {\n",
              "      background-color: #3B4455;\n",
              "      fill: #D2E3FC;\n",
              "    }\n",
              "\n",
              "    [theme=dark] .colab-df-convert:hover {\n",
              "      background-color: #434B5C;\n",
              "      box-shadow: 0px 1px 3px 1px rgba(0, 0, 0, 0.15);\n",
              "      filter: drop-shadow(0px 1px 2px rgba(0, 0, 0, 0.3));\n",
              "      fill: #FFFFFF;\n",
              "    }\n",
              "  </style>\n",
              "\n",
              "    <script>\n",
              "      const buttonEl =\n",
              "        document.querySelector('#df-accdb2b2-b50a-47c7-94f1-308c758e8a16 button.colab-df-convert');\n",
              "      buttonEl.style.display =\n",
              "        google.colab.kernel.accessAllowed ? 'block' : 'none';\n",
              "\n",
              "      async function convertToInteractive(key) {\n",
              "        const element = document.querySelector('#df-accdb2b2-b50a-47c7-94f1-308c758e8a16');\n",
              "        const dataTable =\n",
              "          await google.colab.kernel.invokeFunction('convertToInteractive',\n",
              "                                                    [key], {});\n",
              "        if (!dataTable) return;\n",
              "\n",
              "        const docLinkHtml = 'Like what you see? Visit the ' +\n",
              "          '<a target=\"_blank\" href=https://colab.research.google.com/notebooks/data_table.ipynb>data table notebook</a>'\n",
              "          + ' to learn more about interactive tables.';\n",
              "        element.innerHTML = '';\n",
              "        dataTable['output_type'] = 'display_data';\n",
              "        await google.colab.output.renderOutput(dataTable, element);\n",
              "        const docLink = document.createElement('div');\n",
              "        docLink.innerHTML = docLinkHtml;\n",
              "        element.appendChild(docLink);\n",
              "      }\n",
              "    </script>\n",
              "  </div>\n",
              "\n",
              "\n",
              "<div id=\"df-1f98ddb2-630c-4366-9bc7-33c6bffb16a6\">\n",
              "  <button class=\"colab-df-quickchart\" onclick=\"quickchart('df-1f98ddb2-630c-4366-9bc7-33c6bffb16a6')\"\n",
              "            title=\"Suggest charts\"\n",
              "            style=\"display:none;\">\n",
              "\n",
              "<svg xmlns=\"http://www.w3.org/2000/svg\" height=\"24px\"viewBox=\"0 0 24 24\"\n",
              "     width=\"24px\">\n",
              "    <g>\n",
              "        <path d=\"M19 3H5c-1.1 0-2 .9-2 2v14c0 1.1.9 2 2 2h14c1.1 0 2-.9 2-2V5c0-1.1-.9-2-2-2zM9 17H7v-7h2v7zm4 0h-2V7h2v10zm4 0h-2v-4h2v4z\"/>\n",
              "    </g>\n",
              "</svg>\n",
              "  </button>\n",
              "\n",
              "<style>\n",
              "  .colab-df-quickchart {\n",
              "      --bg-color: #E8F0FE;\n",
              "      --fill-color: #1967D2;\n",
              "      --hover-bg-color: #E2EBFA;\n",
              "      --hover-fill-color: #174EA6;\n",
              "      --disabled-fill-color: #AAA;\n",
              "      --disabled-bg-color: #DDD;\n",
              "  }\n",
              "\n",
              "  [theme=dark] .colab-df-quickchart {\n",
              "      --bg-color: #3B4455;\n",
              "      --fill-color: #D2E3FC;\n",
              "      --hover-bg-color: #434B5C;\n",
              "      --hover-fill-color: #FFFFFF;\n",
              "      --disabled-bg-color: #3B4455;\n",
              "      --disabled-fill-color: #666;\n",
              "  }\n",
              "\n",
              "  .colab-df-quickchart {\n",
              "    background-color: var(--bg-color);\n",
              "    border: none;\n",
              "    border-radius: 50%;\n",
              "    cursor: pointer;\n",
              "    display: none;\n",
              "    fill: var(--fill-color);\n",
              "    height: 32px;\n",
              "    padding: 0;\n",
              "    width: 32px;\n",
              "  }\n",
              "\n",
              "  .colab-df-quickchart:hover {\n",
              "    background-color: var(--hover-bg-color);\n",
              "    box-shadow: 0 1px 2px rgba(60, 64, 67, 0.3), 0 1px 3px 1px rgba(60, 64, 67, 0.15);\n",
              "    fill: var(--button-hover-fill-color);\n",
              "  }\n",
              "\n",
              "  .colab-df-quickchart-complete:disabled,\n",
              "  .colab-df-quickchart-complete:disabled:hover {\n",
              "    background-color: var(--disabled-bg-color);\n",
              "    fill: var(--disabled-fill-color);\n",
              "    box-shadow: none;\n",
              "  }\n",
              "\n",
              "  .colab-df-spinner {\n",
              "    border: 2px solid var(--fill-color);\n",
              "    border-color: transparent;\n",
              "    border-bottom-color: var(--fill-color);\n",
              "    animation:\n",
              "      spin 1s steps(1) infinite;\n",
              "  }\n",
              "\n",
              "  @keyframes spin {\n",
              "    0% {\n",
              "      border-color: transparent;\n",
              "      border-bottom-color: var(--fill-color);\n",
              "      border-left-color: var(--fill-color);\n",
              "    }\n",
              "    20% {\n",
              "      border-color: transparent;\n",
              "      border-left-color: var(--fill-color);\n",
              "      border-top-color: var(--fill-color);\n",
              "    }\n",
              "    30% {\n",
              "      border-color: transparent;\n",
              "      border-left-color: var(--fill-color);\n",
              "      border-top-color: var(--fill-color);\n",
              "      border-right-color: var(--fill-color);\n",
              "    }\n",
              "    40% {\n",
              "      border-color: transparent;\n",
              "      border-right-color: var(--fill-color);\n",
              "      border-top-color: var(--fill-color);\n",
              "    }\n",
              "    60% {\n",
              "      border-color: transparent;\n",
              "      border-right-color: var(--fill-color);\n",
              "    }\n",
              "    80% {\n",
              "      border-color: transparent;\n",
              "      border-right-color: var(--fill-color);\n",
              "      border-bottom-color: var(--fill-color);\n",
              "    }\n",
              "    90% {\n",
              "      border-color: transparent;\n",
              "      border-bottom-color: var(--fill-color);\n",
              "    }\n",
              "  }\n",
              "</style>\n",
              "\n",
              "  <script>\n",
              "    async function quickchart(key) {\n",
              "      const quickchartButtonEl =\n",
              "        document.querySelector('#' + key + ' button');\n",
              "      quickchartButtonEl.disabled = true;  // To prevent multiple clicks.\n",
              "      quickchartButtonEl.classList.add('colab-df-spinner');\n",
              "      try {\n",
              "        const charts = await google.colab.kernel.invokeFunction(\n",
              "            'suggestCharts', [key], {});\n",
              "      } catch (error) {\n",
              "        console.error('Error during call to suggestCharts:', error);\n",
              "      }\n",
              "      quickchartButtonEl.classList.remove('colab-df-spinner');\n",
              "      quickchartButtonEl.classList.add('colab-df-quickchart-complete');\n",
              "    }\n",
              "    (() => {\n",
              "      let quickchartButtonEl =\n",
              "        document.querySelector('#df-1f98ddb2-630c-4366-9bc7-33c6bffb16a6 button');\n",
              "      quickchartButtonEl.style.display =\n",
              "        google.colab.kernel.accessAllowed ? 'block' : 'none';\n",
              "    })();\n",
              "  </script>\n",
              "</div>\n",
              "\n",
              "    </div>\n",
              "  </div>\n"
            ],
            "application/vnd.google.colaboratory.intrinsic+json": {
              "type": "dataframe",
              "variable_name": "df_train",
              "summary": "{\n  \"name\": \"df_train\",\n  \"rows\": 21773,\n  \"fields\": [\n    {\n      \"column\": \"text\",\n      \"properties\": {\n        \"dtype\": \"string\",\n        \"num_unique_values\": 21773,\n        \"samples\": [\n          \"\\\"[USERNAME]: VP Binay: I wont back out from 2016 race \\\" you won't be voted into office. You don't deserve it.\",\n          \"Uy si Mar Roxas nasa tv!! Tulugan na. Magsama kayo ni Korina sa Grabe Sya\",\n          \"Look at yourself. No logic at all. Why would PoeMar and Binay pay someone to talk against Duterte? Duterte did it to himself. PERIOD\"\n        ],\n        \"semantic_type\": \"\",\n        \"description\": \"\"\n      }\n    },\n    {\n      \"column\": \"label\",\n      \"properties\": {\n        \"dtype\": \"number\",\n        \"std\": 0,\n        \"min\": 0,\n        \"max\": 1,\n        \"num_unique_values\": 2,\n        \"samples\": [\n          0,\n          1\n        ],\n        \"semantic_type\": \"\",\n        \"description\": \"\"\n      }\n    }\n  ]\n}"
            }
          },
          "metadata": {},
          "execution_count": 393
        }
      ]
    },
    {
      "cell_type": "markdown",
      "source": [
        "2. Check how many rows and columns are in the training dataset using `.info()`"
      ],
      "metadata": {
        "id": "fqahy2swgvRP"
      }
    },
    {
      "cell_type": "code",
      "source": [
        "# put your answer here\n",
        "df_train.info()"
      ],
      "metadata": {
        "id": "4LaHZrsghAGI",
        "colab": {
          "base_uri": "https://localhost:8080/"
        },
        "outputId": "8b22f4b1-2d1c-423a-c90d-48b5f0300066"
      },
      "execution_count": 394,
      "outputs": [
        {
          "output_type": "stream",
          "name": "stdout",
          "text": [
            "<class 'pandas.core.frame.DataFrame'>\n",
            "RangeIndex: 21773 entries, 0 to 21772\n",
            "Data columns (total 2 columns):\n",
            " #   Column  Non-Null Count  Dtype \n",
            "---  ------  --------------  ----- \n",
            " 0   text    21773 non-null  object\n",
            " 1   label   21773 non-null  int64 \n",
            "dtypes: int64(1), object(1)\n",
            "memory usage: 340.3+ KB\n"
          ]
        }
      ]
    },
    {
      "cell_type": "markdown",
      "source": [
        "3. Check for NaN values"
      ],
      "metadata": {
        "id": "pGO5JHqpgY27"
      }
    },
    {
      "cell_type": "code",
      "source": [
        "# put your answer here\n",
        "df_train.isnull().sum()"
      ],
      "metadata": {
        "id": "gw0ntqg4gWSl",
        "colab": {
          "base_uri": "https://localhost:8080/",
          "height": 147
        },
        "outputId": "54faefbd-1cb4-4273-da5d-1cb099af4e7f"
      },
      "execution_count": 395,
      "outputs": [
        {
          "output_type": "execute_result",
          "data": {
            "text/plain": [
              "text     0\n",
              "label    0\n",
              "dtype: int64"
            ],
            "text/html": [
              "<div>\n",
              "<style scoped>\n",
              "    .dataframe tbody tr th:only-of-type {\n",
              "        vertical-align: middle;\n",
              "    }\n",
              "\n",
              "    .dataframe tbody tr th {\n",
              "        vertical-align: top;\n",
              "    }\n",
              "\n",
              "    .dataframe thead th {\n",
              "        text-align: right;\n",
              "    }\n",
              "</style>\n",
              "<table border=\"1\" class=\"dataframe\">\n",
              "  <thead>\n",
              "    <tr style=\"text-align: right;\">\n",
              "      <th></th>\n",
              "      <th>0</th>\n",
              "    </tr>\n",
              "  </thead>\n",
              "  <tbody>\n",
              "    <tr>\n",
              "      <th>text</th>\n",
              "      <td>0</td>\n",
              "    </tr>\n",
              "    <tr>\n",
              "      <th>label</th>\n",
              "      <td>0</td>\n",
              "    </tr>\n",
              "  </tbody>\n",
              "</table>\n",
              "</div><br><label><b>dtype:</b> int64</label>"
            ]
          },
          "metadata": {},
          "execution_count": 395
        }
      ]
    },
    {
      "cell_type": "markdown",
      "source": [
        "4. Check for duplicate rows"
      ],
      "metadata": {
        "id": "11tJwLFCgbCE"
      }
    },
    {
      "cell_type": "code",
      "source": [
        "# put your answer here\n",
        "df_train.duplicated().sum()"
      ],
      "metadata": {
        "id": "9rJwyKDZge6Q",
        "colab": {
          "base_uri": "https://localhost:8080/"
        },
        "outputId": "d4cb55cd-ca96-4206-f684-c0d58db72501"
      },
      "execution_count": 396,
      "outputs": [
        {
          "output_type": "execute_result",
          "data": {
            "text/plain": [
              "0"
            ]
          },
          "metadata": {},
          "execution_count": 396
        }
      ]
    },
    {
      "cell_type": "markdown",
      "source": [
        "5. Check how many rows belong to each class"
      ],
      "metadata": {
        "id": "P1twAxT9ggMp"
      }
    },
    {
      "cell_type": "code",
      "source": [
        "# put your answer here\n",
        "df_train['label'].value_counts()"
      ],
      "metadata": {
        "id": "CSFc4cFugk9h",
        "colab": {
          "base_uri": "https://localhost:8080/",
          "height": 178
        },
        "outputId": "2f54cdc3-5f81-4693-e5f5-a9de06588ab5"
      },
      "execution_count": 397,
      "outputs": [
        {
          "output_type": "execute_result",
          "data": {
            "text/plain": [
              "label\n",
              "1    10994\n",
              "0    10779\n",
              "Name: count, dtype: int64"
            ],
            "text/html": [
              "<div>\n",
              "<style scoped>\n",
              "    .dataframe tbody tr th:only-of-type {\n",
              "        vertical-align: middle;\n",
              "    }\n",
              "\n",
              "    .dataframe tbody tr th {\n",
              "        vertical-align: top;\n",
              "    }\n",
              "\n",
              "    .dataframe thead th {\n",
              "        text-align: right;\n",
              "    }\n",
              "</style>\n",
              "<table border=\"1\" class=\"dataframe\">\n",
              "  <thead>\n",
              "    <tr style=\"text-align: right;\">\n",
              "      <th></th>\n",
              "      <th>count</th>\n",
              "    </tr>\n",
              "    <tr>\n",
              "      <th>label</th>\n",
              "      <th></th>\n",
              "    </tr>\n",
              "  </thead>\n",
              "  <tbody>\n",
              "    <tr>\n",
              "      <th>1</th>\n",
              "      <td>10994</td>\n",
              "    </tr>\n",
              "    <tr>\n",
              "      <th>0</th>\n",
              "      <td>10779</td>\n",
              "    </tr>\n",
              "  </tbody>\n",
              "</table>\n",
              "</div><br><label><b>dtype:</b> int64</label>"
            ]
          },
          "metadata": {},
          "execution_count": 397
        }
      ]
    },
    {
      "cell_type": "markdown",
      "source": [
        "## B. Text pre-processing"
      ],
      "metadata": {
        "id": "EVVSotUIgSuJ"
      }
    },
    {
      "cell_type": "markdown",
      "source": [
        "6. Remove duplicate rows"
      ],
      "metadata": {
        "id": "h31QlJJCd22I"
      }
    },
    {
      "cell_type": "code",
      "source": [
        "# put your answer here\n",
        "df_train.drop_duplicates(inplace = True)"
      ],
      "metadata": {
        "id": "ZMaUVsgReHKP"
      },
      "execution_count": 398,
      "outputs": []
    },
    {
      "cell_type": "markdown",
      "source": [
        "7. Remove rows with NaN values"
      ],
      "metadata": {
        "id": "U0FJLJwueBb2"
      }
    },
    {
      "cell_type": "code",
      "source": [
        "# put your answer here\n",
        "df_train.dropna(inplace = True)"
      ],
      "metadata": {
        "id": "pzegxzl0eKxA"
      },
      "execution_count": 399,
      "outputs": []
    },
    {
      "cell_type": "markdown",
      "source": [
        "8. Convert all text to lowercase"
      ],
      "metadata": {
        "id": "0uEgbwrEeO0y"
      }
    },
    {
      "cell_type": "code",
      "source": [
        "# put your answer here\n",
        "df_train['text'] = df_train['text'].str.lower()"
      ],
      "metadata": {
        "id": "b_TN15G4eSjV"
      },
      "execution_count": 400,
      "outputs": []
    },
    {
      "cell_type": "markdown",
      "source": [
        "9. Remove digits, URLS and special characters"
      ],
      "metadata": {
        "id": "dejH8IW7eU7h"
      }
    },
    {
      "cell_type": "code",
      "source": [
        "# put your answer here\n",
        "df_train['text'] = df_train['text'].str.replace('[^a-zA-Z]', ' ')\n",
        "df_train['text'] = df_train['text'].str.replace('http\\S+|www.\\S+', '', case=False)\n",
        "df_train['text'] = df_train['text'].str.replace(r'\\d+', '')\n",
        "df_train['text'] = df_train['text'].str.replace(r'[^\\w\\s]+', '')\n",
        "df_train['text'] = df_train['text'].str.strip()\n",
        "df_train['text'] = df_train['text'].str.replace(r'\\s+', ' ')\n",
        "df_train['text'] = df_train['text'].str.replace(r'^\\s+', '')\n",
        "df_train['text'] = df_train['text'].str.replace(r'\\s+$', '')"
      ],
      "metadata": {
        "id": "XiPCD1mXeeP3"
      },
      "execution_count": 401,
      "outputs": []
    },
    {
      "cell_type": "markdown",
      "source": [
        "10. Remove stop words"
      ],
      "metadata": {
        "id": "717MNDtMedlC"
      }
    },
    {
      "cell_type": "code",
      "source": [
        "# put your answer here\n",
        "filipino_stopwords = set([\n",
        "        'akin', 'aking', 'ako', 'alin', 'am', 'amin', 'aming', 'ang', 'ano',\n",
        "        'anumang', 'apat', 'at', 'atin', 'ating', 'ay', 'ba', 'bababa', 'bago',\n",
        "        'bakit', 'bawat', 'bilang', 'dahil', 'dalawa', 'dapat', 'din', 'dito',\n",
        "        'doon', 'eh', 'gagawin', 'gayunman', 'ginagawa', 'ginawa', 'ginawang',\n",
        "        'gumawa', 'gusto', 'ha', 'habang', 'hanggang', 'hindi', 'huwag', 'hoy',\n",
        "        'iba', 'ibaba', 'ibabaw', 'ibig', 'ikaw', 'ilagay', 'ilalim', 'ilan',\n",
        "        'inyong', 'isa', 'isang', 'itaas', 'ito', 'iyo', 'iyon', 'iyang','iyong', 'ka',\n",
        "        'kahit', 'kailangan', 'kailanman', 'kami', 'kanila', 'kanilang',\n",
        "        'kanino', 'kanya', 'kanyang', 'kapag', 'kapwa', 'karamihan',\n",
        "        'katiyakan', 'katulad', 'kaya', 'kaysa', 'ko', 'kong', 'kulang',\n",
        "        'kumuha', 'kung', 'laban', 'lahat', 'lamang', 'likod', 'lima', 'maaari',\n",
        "        'maaaring', 'maging', 'mahusay', 'makita', 'marami', 'marapat',\n",
        "        'masyado', 'may', 'mayroon', 'mga', 'minsan', 'mismo', 'mula', 'muli', 'na',\n",
        "        'nabanggit', 'naging', 'nagkaroon', 'nais', 'nakita', 'namin', 'nang',\n",
        "        'napaka', 'narito', 'nasaan', 'ng', 'ngayon', 'ngunit', 'ni', 'nila', 'nilang',\n",
        "        'nito', 'niya', 'niyang', 'noon', 'o', 'pa', 'paano', 'pababa',\n",
        "        'paggawa', 'pagitan', 'pagkakaroon', 'pagkatapos', 'pala', 'palabas',\n",
        "        'pamamagitan', 'panahon', 'pangalawa', 'para', 'paraan', 'pareho',\n",
        "        'pataas', 'pero', 'po', 'pumunta', 'pumupunta', 'sa', 'saan', 'sabi',\n",
        "        'sabihin', 'sarili', 'sila', 'sino', 'siya',\n",
        "        'tatlo', 'tayo', 'tulad', 'tungkol', 'una', 'walang', 'yan', 'yung', 'username'\n",
        "    ])\n",
        "\n",
        "english_stopwords = set(stopwords.words('english'))\n",
        "combined_stopwords = filipino_stopwords.union(english_stopwords)\n",
        "\n",
        "df_train['text'] = df_train['text'].apply(lambda x: ' '.join([word for word in x.split() if word not in (combined_stopwords)]))"
      ],
      "metadata": {
        "id": "Y4wKDC8-eg82"
      },
      "execution_count": 402,
      "outputs": []
    },
    {
      "cell_type": "markdown",
      "source": [
        "11. Use Stemming or Lemmatization"
      ],
      "metadata": {
        "id": "j4jPfb1_eiAA"
      }
    },
    {
      "cell_type": "code",
      "source": [
        "# put your answer here\n",
        "lemmatizer = WordNetLemmatizer()\n",
        "df_train['text'] = df_train['text'].apply(lambda x: ' '.join([lemmatizer.lemmatize(word) for word in x.split()]))\n",
        "'''porter = PorterStemmer()\n",
        "df_train['text'] = df_train['text'].apply(lambda x: ' '.join([porter.stem(word) for word in x.split()]))'''"
      ],
      "metadata": {
        "id": "Ip0oDYsviKg1",
        "colab": {
          "base_uri": "https://localhost:8080/",
          "height": 35
        },
        "outputId": "e543502e-607f-4e9b-fd9f-fac221368d69"
      },
      "execution_count": 403,
      "outputs": [
        {
          "output_type": "execute_result",
          "data": {
            "text/plain": [
              "\"porter = PorterStemmer()\\ndf_train['text'] = df_train['text'].apply(lambda x: ' '.join([porter.stem(word) for word in x.split()]))\""
            ],
            "application/vnd.google.colaboratory.intrinsic+json": {
              "type": "string"
            }
          },
          "metadata": {},
          "execution_count": 403
        }
      ]
    },
    {
      "cell_type": "markdown",
      "source": [
        "## C. Training your model"
      ],
      "metadata": {
        "id": "CHBLOTfShuZJ"
      }
    },
    {
      "cell_type": "markdown",
      "source": [
        "12. Put all text training data in variable **X_train**"
      ],
      "metadata": {
        "id": "mN-fGuYCh247"
      }
    },
    {
      "cell_type": "code",
      "source": [
        "# put your answer here\n",
        "X_train = df_train['text']"
      ],
      "metadata": {
        "id": "JpH-V0Mbh98u"
      },
      "execution_count": 404,
      "outputs": []
    },
    {
      "cell_type": "markdown",
      "source": [
        "13. Put all training data labels in variable **y_train**"
      ],
      "metadata": {
        "id": "BTIRnIgTh-fj"
      }
    },
    {
      "cell_type": "code",
      "source": [
        "# put your answer here\n",
        "y_train = df_train['label']"
      ],
      "metadata": {
        "id": "u5cLdnzLiDGJ"
      },
      "execution_count": 405,
      "outputs": []
    },
    {
      "cell_type": "markdown",
      "source": [
        "14. Use `CountVectorizer()` or `TfidfVectorizer()` to convert text data to its numerical form.\n",
        "\n",
        "Put the converted data to **X_train_transformed** variable"
      ],
      "metadata": {
        "id": "eon5IhhRewJn"
      }
    },
    {
      "cell_type": "code",
      "source": [
        "# put your answer here\n",
        "'''vectorizer = CountVectorizer()\n",
        "X_train_transformed = vectorizer.fit_transform(X_train)'''\n",
        "vectorizer = TfidfVectorizer()\n",
        "X_train_transformed = vectorizer.fit_transform(X_train)"
      ],
      "metadata": {
        "id": "b95qPmsTewfG"
      },
      "execution_count": 406,
      "outputs": []
    },
    {
      "cell_type": "markdown",
      "source": [
        "15. Create an instance of `MultinomalNB()`"
      ],
      "metadata": {
        "id": "OxdKojNie3ss"
      }
    },
    {
      "cell_type": "code",
      "source": [
        "# put your answer here\n",
        "model = MultinomialNB(alpha = 0.5)"
      ],
      "metadata": {
        "id": "jADaCXLne36S"
      },
      "execution_count": 418,
      "outputs": []
    },
    {
      "cell_type": "markdown",
      "source": [
        "16. Train the model using `.fit()`"
      ],
      "metadata": {
        "id": "sQ-o0zS0iip8"
      }
    },
    {
      "cell_type": "code",
      "source": [
        "# put your answer here\n",
        "model.fit(X_train_transformed, y_train)"
      ],
      "metadata": {
        "id": "18taO8Uxii5Q",
        "colab": {
          "base_uri": "https://localhost:8080/",
          "height": 80
        },
        "outputId": "bf1956d8-61d8-4918-be57-c1d19a473883"
      },
      "execution_count": 419,
      "outputs": [
        {
          "output_type": "execute_result",
          "data": {
            "text/plain": [
              "MultinomialNB(alpha=0.5)"
            ],
            "text/html": [
              "<style>#sk-container-id-13 {\n",
              "  /* Definition of color scheme common for light and dark mode */\n",
              "  --sklearn-color-text: black;\n",
              "  --sklearn-color-line: gray;\n",
              "  /* Definition of color scheme for unfitted estimators */\n",
              "  --sklearn-color-unfitted-level-0: #fff5e6;\n",
              "  --sklearn-color-unfitted-level-1: #f6e4d2;\n",
              "  --sklearn-color-unfitted-level-2: #ffe0b3;\n",
              "  --sklearn-color-unfitted-level-3: chocolate;\n",
              "  /* Definition of color scheme for fitted estimators */\n",
              "  --sklearn-color-fitted-level-0: #f0f8ff;\n",
              "  --sklearn-color-fitted-level-1: #d4ebff;\n",
              "  --sklearn-color-fitted-level-2: #b3dbfd;\n",
              "  --sklearn-color-fitted-level-3: cornflowerblue;\n",
              "\n",
              "  /* Specific color for light theme */\n",
              "  --sklearn-color-text-on-default-background: var(--sg-text-color, var(--theme-code-foreground, var(--jp-content-font-color1, black)));\n",
              "  --sklearn-color-background: var(--sg-background-color, var(--theme-background, var(--jp-layout-color0, white)));\n",
              "  --sklearn-color-border-box: var(--sg-text-color, var(--theme-code-foreground, var(--jp-content-font-color1, black)));\n",
              "  --sklearn-color-icon: #696969;\n",
              "\n",
              "  @media (prefers-color-scheme: dark) {\n",
              "    /* Redefinition of color scheme for dark theme */\n",
              "    --sklearn-color-text-on-default-background: var(--sg-text-color, var(--theme-code-foreground, var(--jp-content-font-color1, white)));\n",
              "    --sklearn-color-background: var(--sg-background-color, var(--theme-background, var(--jp-layout-color0, #111)));\n",
              "    --sklearn-color-border-box: var(--sg-text-color, var(--theme-code-foreground, var(--jp-content-font-color1, white)));\n",
              "    --sklearn-color-icon: #878787;\n",
              "  }\n",
              "}\n",
              "\n",
              "#sk-container-id-13 {\n",
              "  color: var(--sklearn-color-text);\n",
              "}\n",
              "\n",
              "#sk-container-id-13 pre {\n",
              "  padding: 0;\n",
              "}\n",
              "\n",
              "#sk-container-id-13 input.sk-hidden--visually {\n",
              "  border: 0;\n",
              "  clip: rect(1px 1px 1px 1px);\n",
              "  clip: rect(1px, 1px, 1px, 1px);\n",
              "  height: 1px;\n",
              "  margin: -1px;\n",
              "  overflow: hidden;\n",
              "  padding: 0;\n",
              "  position: absolute;\n",
              "  width: 1px;\n",
              "}\n",
              "\n",
              "#sk-container-id-13 div.sk-dashed-wrapped {\n",
              "  border: 1px dashed var(--sklearn-color-line);\n",
              "  margin: 0 0.4em 0.5em 0.4em;\n",
              "  box-sizing: border-box;\n",
              "  padding-bottom: 0.4em;\n",
              "  background-color: var(--sklearn-color-background);\n",
              "}\n",
              "\n",
              "#sk-container-id-13 div.sk-container {\n",
              "  /* jupyter's `normalize.less` sets `[hidden] { display: none; }`\n",
              "     but bootstrap.min.css set `[hidden] { display: none !important; }`\n",
              "     so we also need the `!important` here to be able to override the\n",
              "     default hidden behavior on the sphinx rendered scikit-learn.org.\n",
              "     See: https://github.com/scikit-learn/scikit-learn/issues/21755 */\n",
              "  display: inline-block !important;\n",
              "  position: relative;\n",
              "}\n",
              "\n",
              "#sk-container-id-13 div.sk-text-repr-fallback {\n",
              "  display: none;\n",
              "}\n",
              "\n",
              "div.sk-parallel-item,\n",
              "div.sk-serial,\n",
              "div.sk-item {\n",
              "  /* draw centered vertical line to link estimators */\n",
              "  background-image: linear-gradient(var(--sklearn-color-text-on-default-background), var(--sklearn-color-text-on-default-background));\n",
              "  background-size: 2px 100%;\n",
              "  background-repeat: no-repeat;\n",
              "  background-position: center center;\n",
              "}\n",
              "\n",
              "/* Parallel-specific style estimator block */\n",
              "\n",
              "#sk-container-id-13 div.sk-parallel-item::after {\n",
              "  content: \"\";\n",
              "  width: 100%;\n",
              "  border-bottom: 2px solid var(--sklearn-color-text-on-default-background);\n",
              "  flex-grow: 1;\n",
              "}\n",
              "\n",
              "#sk-container-id-13 div.sk-parallel {\n",
              "  display: flex;\n",
              "  align-items: stretch;\n",
              "  justify-content: center;\n",
              "  background-color: var(--sklearn-color-background);\n",
              "  position: relative;\n",
              "}\n",
              "\n",
              "#sk-container-id-13 div.sk-parallel-item {\n",
              "  display: flex;\n",
              "  flex-direction: column;\n",
              "}\n",
              "\n",
              "#sk-container-id-13 div.sk-parallel-item:first-child::after {\n",
              "  align-self: flex-end;\n",
              "  width: 50%;\n",
              "}\n",
              "\n",
              "#sk-container-id-13 div.sk-parallel-item:last-child::after {\n",
              "  align-self: flex-start;\n",
              "  width: 50%;\n",
              "}\n",
              "\n",
              "#sk-container-id-13 div.sk-parallel-item:only-child::after {\n",
              "  width: 0;\n",
              "}\n",
              "\n",
              "/* Serial-specific style estimator block */\n",
              "\n",
              "#sk-container-id-13 div.sk-serial {\n",
              "  display: flex;\n",
              "  flex-direction: column;\n",
              "  align-items: center;\n",
              "  background-color: var(--sklearn-color-background);\n",
              "  padding-right: 1em;\n",
              "  padding-left: 1em;\n",
              "}\n",
              "\n",
              "\n",
              "/* Toggleable style: style used for estimator/Pipeline/ColumnTransformer box that is\n",
              "clickable and can be expanded/collapsed.\n",
              "- Pipeline and ColumnTransformer use this feature and define the default style\n",
              "- Estimators will overwrite some part of the style using the `sk-estimator` class\n",
              "*/\n",
              "\n",
              "/* Pipeline and ColumnTransformer style (default) */\n",
              "\n",
              "#sk-container-id-13 div.sk-toggleable {\n",
              "  /* Default theme specific background. It is overwritten whether we have a\n",
              "  specific estimator or a Pipeline/ColumnTransformer */\n",
              "  background-color: var(--sklearn-color-background);\n",
              "}\n",
              "\n",
              "/* Toggleable label */\n",
              "#sk-container-id-13 label.sk-toggleable__label {\n",
              "  cursor: pointer;\n",
              "  display: block;\n",
              "  width: 100%;\n",
              "  margin-bottom: 0;\n",
              "  padding: 0.5em;\n",
              "  box-sizing: border-box;\n",
              "  text-align: center;\n",
              "}\n",
              "\n",
              "#sk-container-id-13 label.sk-toggleable__label-arrow:before {\n",
              "  /* Arrow on the left of the label */\n",
              "  content: \"▸\";\n",
              "  float: left;\n",
              "  margin-right: 0.25em;\n",
              "  color: var(--sklearn-color-icon);\n",
              "}\n",
              "\n",
              "#sk-container-id-13 label.sk-toggleable__label-arrow:hover:before {\n",
              "  color: var(--sklearn-color-text);\n",
              "}\n",
              "\n",
              "/* Toggleable content - dropdown */\n",
              "\n",
              "#sk-container-id-13 div.sk-toggleable__content {\n",
              "  max-height: 0;\n",
              "  max-width: 0;\n",
              "  overflow: hidden;\n",
              "  text-align: left;\n",
              "  /* unfitted */\n",
              "  background-color: var(--sklearn-color-unfitted-level-0);\n",
              "}\n",
              "\n",
              "#sk-container-id-13 div.sk-toggleable__content.fitted {\n",
              "  /* fitted */\n",
              "  background-color: var(--sklearn-color-fitted-level-0);\n",
              "}\n",
              "\n",
              "#sk-container-id-13 div.sk-toggleable__content pre {\n",
              "  margin: 0.2em;\n",
              "  border-radius: 0.25em;\n",
              "  color: var(--sklearn-color-text);\n",
              "  /* unfitted */\n",
              "  background-color: var(--sklearn-color-unfitted-level-0);\n",
              "}\n",
              "\n",
              "#sk-container-id-13 div.sk-toggleable__content.fitted pre {\n",
              "  /* unfitted */\n",
              "  background-color: var(--sklearn-color-fitted-level-0);\n",
              "}\n",
              "\n",
              "#sk-container-id-13 input.sk-toggleable__control:checked~div.sk-toggleable__content {\n",
              "  /* Expand drop-down */\n",
              "  max-height: 200px;\n",
              "  max-width: 100%;\n",
              "  overflow: auto;\n",
              "}\n",
              "\n",
              "#sk-container-id-13 input.sk-toggleable__control:checked~label.sk-toggleable__label-arrow:before {\n",
              "  content: \"▾\";\n",
              "}\n",
              "\n",
              "/* Pipeline/ColumnTransformer-specific style */\n",
              "\n",
              "#sk-container-id-13 div.sk-label input.sk-toggleable__control:checked~label.sk-toggleable__label {\n",
              "  color: var(--sklearn-color-text);\n",
              "  background-color: var(--sklearn-color-unfitted-level-2);\n",
              "}\n",
              "\n",
              "#sk-container-id-13 div.sk-label.fitted input.sk-toggleable__control:checked~label.sk-toggleable__label {\n",
              "  background-color: var(--sklearn-color-fitted-level-2);\n",
              "}\n",
              "\n",
              "/* Estimator-specific style */\n",
              "\n",
              "/* Colorize estimator box */\n",
              "#sk-container-id-13 div.sk-estimator input.sk-toggleable__control:checked~label.sk-toggleable__label {\n",
              "  /* unfitted */\n",
              "  background-color: var(--sklearn-color-unfitted-level-2);\n",
              "}\n",
              "\n",
              "#sk-container-id-13 div.sk-estimator.fitted input.sk-toggleable__control:checked~label.sk-toggleable__label {\n",
              "  /* fitted */\n",
              "  background-color: var(--sklearn-color-fitted-level-2);\n",
              "}\n",
              "\n",
              "#sk-container-id-13 div.sk-label label.sk-toggleable__label,\n",
              "#sk-container-id-13 div.sk-label label {\n",
              "  /* The background is the default theme color */\n",
              "  color: var(--sklearn-color-text-on-default-background);\n",
              "}\n",
              "\n",
              "/* On hover, darken the color of the background */\n",
              "#sk-container-id-13 div.sk-label:hover label.sk-toggleable__label {\n",
              "  color: var(--sklearn-color-text);\n",
              "  background-color: var(--sklearn-color-unfitted-level-2);\n",
              "}\n",
              "\n",
              "/* Label box, darken color on hover, fitted */\n",
              "#sk-container-id-13 div.sk-label.fitted:hover label.sk-toggleable__label.fitted {\n",
              "  color: var(--sklearn-color-text);\n",
              "  background-color: var(--sklearn-color-fitted-level-2);\n",
              "}\n",
              "\n",
              "/* Estimator label */\n",
              "\n",
              "#sk-container-id-13 div.sk-label label {\n",
              "  font-family: monospace;\n",
              "  font-weight: bold;\n",
              "  display: inline-block;\n",
              "  line-height: 1.2em;\n",
              "}\n",
              "\n",
              "#sk-container-id-13 div.sk-label-container {\n",
              "  text-align: center;\n",
              "}\n",
              "\n",
              "/* Estimator-specific */\n",
              "#sk-container-id-13 div.sk-estimator {\n",
              "  font-family: monospace;\n",
              "  border: 1px dotted var(--sklearn-color-border-box);\n",
              "  border-radius: 0.25em;\n",
              "  box-sizing: border-box;\n",
              "  margin-bottom: 0.5em;\n",
              "  /* unfitted */\n",
              "  background-color: var(--sklearn-color-unfitted-level-0);\n",
              "}\n",
              "\n",
              "#sk-container-id-13 div.sk-estimator.fitted {\n",
              "  /* fitted */\n",
              "  background-color: var(--sklearn-color-fitted-level-0);\n",
              "}\n",
              "\n",
              "/* on hover */\n",
              "#sk-container-id-13 div.sk-estimator:hover {\n",
              "  /* unfitted */\n",
              "  background-color: var(--sklearn-color-unfitted-level-2);\n",
              "}\n",
              "\n",
              "#sk-container-id-13 div.sk-estimator.fitted:hover {\n",
              "  /* fitted */\n",
              "  background-color: var(--sklearn-color-fitted-level-2);\n",
              "}\n",
              "\n",
              "/* Specification for estimator info (e.g. \"i\" and \"?\") */\n",
              "\n",
              "/* Common style for \"i\" and \"?\" */\n",
              "\n",
              ".sk-estimator-doc-link,\n",
              "a:link.sk-estimator-doc-link,\n",
              "a:visited.sk-estimator-doc-link {\n",
              "  float: right;\n",
              "  font-size: smaller;\n",
              "  line-height: 1em;\n",
              "  font-family: monospace;\n",
              "  background-color: var(--sklearn-color-background);\n",
              "  border-radius: 1em;\n",
              "  height: 1em;\n",
              "  width: 1em;\n",
              "  text-decoration: none !important;\n",
              "  margin-left: 1ex;\n",
              "  /* unfitted */\n",
              "  border: var(--sklearn-color-unfitted-level-1) 1pt solid;\n",
              "  color: var(--sklearn-color-unfitted-level-1);\n",
              "}\n",
              "\n",
              ".sk-estimator-doc-link.fitted,\n",
              "a:link.sk-estimator-doc-link.fitted,\n",
              "a:visited.sk-estimator-doc-link.fitted {\n",
              "  /* fitted */\n",
              "  border: var(--sklearn-color-fitted-level-1) 1pt solid;\n",
              "  color: var(--sklearn-color-fitted-level-1);\n",
              "}\n",
              "\n",
              "/* On hover */\n",
              "div.sk-estimator:hover .sk-estimator-doc-link:hover,\n",
              ".sk-estimator-doc-link:hover,\n",
              "div.sk-label-container:hover .sk-estimator-doc-link:hover,\n",
              ".sk-estimator-doc-link:hover {\n",
              "  /* unfitted */\n",
              "  background-color: var(--sklearn-color-unfitted-level-3);\n",
              "  color: var(--sklearn-color-background);\n",
              "  text-decoration: none;\n",
              "}\n",
              "\n",
              "div.sk-estimator.fitted:hover .sk-estimator-doc-link.fitted:hover,\n",
              ".sk-estimator-doc-link.fitted:hover,\n",
              "div.sk-label-container:hover .sk-estimator-doc-link.fitted:hover,\n",
              ".sk-estimator-doc-link.fitted:hover {\n",
              "  /* fitted */\n",
              "  background-color: var(--sklearn-color-fitted-level-3);\n",
              "  color: var(--sklearn-color-background);\n",
              "  text-decoration: none;\n",
              "}\n",
              "\n",
              "/* Span, style for the box shown on hovering the info icon */\n",
              ".sk-estimator-doc-link span {\n",
              "  display: none;\n",
              "  z-index: 9999;\n",
              "  position: relative;\n",
              "  font-weight: normal;\n",
              "  right: .2ex;\n",
              "  padding: .5ex;\n",
              "  margin: .5ex;\n",
              "  width: min-content;\n",
              "  min-width: 20ex;\n",
              "  max-width: 50ex;\n",
              "  color: var(--sklearn-color-text);\n",
              "  box-shadow: 2pt 2pt 4pt #999;\n",
              "  /* unfitted */\n",
              "  background: var(--sklearn-color-unfitted-level-0);\n",
              "  border: .5pt solid var(--sklearn-color-unfitted-level-3);\n",
              "}\n",
              "\n",
              ".sk-estimator-doc-link.fitted span {\n",
              "  /* fitted */\n",
              "  background: var(--sklearn-color-fitted-level-0);\n",
              "  border: var(--sklearn-color-fitted-level-3);\n",
              "}\n",
              "\n",
              ".sk-estimator-doc-link:hover span {\n",
              "  display: block;\n",
              "}\n",
              "\n",
              "/* \"?\"-specific style due to the `<a>` HTML tag */\n",
              "\n",
              "#sk-container-id-13 a.estimator_doc_link {\n",
              "  float: right;\n",
              "  font-size: 1rem;\n",
              "  line-height: 1em;\n",
              "  font-family: monospace;\n",
              "  background-color: var(--sklearn-color-background);\n",
              "  border-radius: 1rem;\n",
              "  height: 1rem;\n",
              "  width: 1rem;\n",
              "  text-decoration: none;\n",
              "  /* unfitted */\n",
              "  color: var(--sklearn-color-unfitted-level-1);\n",
              "  border: var(--sklearn-color-unfitted-level-1) 1pt solid;\n",
              "}\n",
              "\n",
              "#sk-container-id-13 a.estimator_doc_link.fitted {\n",
              "  /* fitted */\n",
              "  border: var(--sklearn-color-fitted-level-1) 1pt solid;\n",
              "  color: var(--sklearn-color-fitted-level-1);\n",
              "}\n",
              "\n",
              "/* On hover */\n",
              "#sk-container-id-13 a.estimator_doc_link:hover {\n",
              "  /* unfitted */\n",
              "  background-color: var(--sklearn-color-unfitted-level-3);\n",
              "  color: var(--sklearn-color-background);\n",
              "  text-decoration: none;\n",
              "}\n",
              "\n",
              "#sk-container-id-13 a.estimator_doc_link.fitted:hover {\n",
              "  /* fitted */\n",
              "  background-color: var(--sklearn-color-fitted-level-3);\n",
              "}\n",
              "</style><div id=\"sk-container-id-13\" class=\"sk-top-container\"><div class=\"sk-text-repr-fallback\"><pre>MultinomialNB(alpha=0.5)</pre><b>In a Jupyter environment, please rerun this cell to show the HTML representation or trust the notebook. <br />On GitHub, the HTML representation is unable to render, please try loading this page with nbviewer.org.</b></div><div class=\"sk-container\" hidden><div class=\"sk-item\"><div class=\"sk-estimator fitted sk-toggleable\"><input class=\"sk-toggleable__control sk-hidden--visually\" id=\"sk-estimator-id-13\" type=\"checkbox\" checked><label for=\"sk-estimator-id-13\" class=\"sk-toggleable__label fitted sk-toggleable__label-arrow fitted\">&nbsp;&nbsp;MultinomialNB<a class=\"sk-estimator-doc-link fitted\" rel=\"noreferrer\" target=\"_blank\" href=\"https://scikit-learn.org/1.5/modules/generated/sklearn.naive_bayes.MultinomialNB.html\">?<span>Documentation for MultinomialNB</span></a><span class=\"sk-estimator-doc-link fitted\">i<span>Fitted</span></span></label><div class=\"sk-toggleable__content fitted\"><pre>MultinomialNB(alpha=0.5)</pre></div> </div></div></div></div>"
            ]
          },
          "metadata": {},
          "execution_count": 419
        }
      ]
    },
    {
      "cell_type": "markdown",
      "source": [
        "## D. Evaluate your model"
      ],
      "metadata": {
        "id": "InwOEEdjjPXS"
      }
    },
    {
      "cell_type": "markdown",
      "source": [
        "17. Use `.predict()` to generate model predictions using the **validation dataset**\n",
        "\n",
        "\n",
        "- Put all text validation data in **X_validation** variable\n",
        "\n",
        "- Convert **X_validation** to its numerical form.\n",
        "\n",
        "- Put the converted data to **X_validation_transformed**\n",
        "\n",
        "- Put all predictions in **y_validation_pred** variable"
      ],
      "metadata": {
        "id": "eDw6zehFizeY"
      }
    },
    {
      "cell_type": "code",
      "source": [
        "# put your answer here\n",
        "X_validation = df_validation['text']\n",
        "X_validation_transformed = vectorizer.transform(X_validation)\n",
        "y_validation_pred = model.predict(X_validation_transformed)"
      ],
      "metadata": {
        "id": "I_HnXR5Mi6wG"
      },
      "execution_count": 420,
      "outputs": []
    },
    {
      "cell_type": "markdown",
      "source": [
        "18. Get the Accuracy, Precision, Recall and F1-Score of the model using the **validation dataset**\n",
        "\n",
        "- Put all validation data labels in **y_validation** variable"
      ],
      "metadata": {
        "id": "c4Vysvx0i7o7"
      }
    },
    {
      "cell_type": "code",
      "source": [
        "# put your answer here\n",
        "y_validation = df_validation['label']\n",
        "print(classification_report(y_validation, y_validation_pred))"
      ],
      "metadata": {
        "id": "qTOquylLjEYg",
        "colab": {
          "base_uri": "https://localhost:8080/"
        },
        "outputId": "49072643-f98a-4179-b9fb-2533e46ed85a"
      },
      "execution_count": 421,
      "outputs": [
        {
          "output_type": "stream",
          "name": "stdout",
          "text": [
            "              precision    recall  f1-score   support\n",
            "\n",
            "           0       0.85      0.77      0.81      1385\n",
            "           1       0.80      0.86      0.83      1415\n",
            "\n",
            "    accuracy                           0.82      2800\n",
            "   macro avg       0.82      0.82      0.82      2800\n",
            "weighted avg       0.82      0.82      0.82      2800\n",
            "\n"
          ]
        }
      ]
    },
    {
      "cell_type": "markdown",
      "source": [
        "19. Create a confusion matrix using the **validation dataset**"
      ],
      "metadata": {
        "id": "hnHNHWXUjGa6"
      }
    },
    {
      "cell_type": "code",
      "source": [
        "# put your answer here\n",
        "cm = confusion_matrix(y_validation, y_validation_pred)\n",
        "\n",
        "disp = ConfusionMatrixDisplay(confusion_matrix=cm, display_labels=model.classes_)\n",
        "disp.plot()\n",
        "plt.show()"
      ],
      "metadata": {
        "id": "rHNBIJgJjIrw",
        "colab": {
          "base_uri": "https://localhost:8080/",
          "height": 449
        },
        "outputId": "35a75580-192d-4479-bce8-2c11e827d3f3"
      },
      "execution_count": 422,
      "outputs": [
        {
          "output_type": "display_data",
          "data": {
            "text/plain": [
              "<Figure size 640x480 with 2 Axes>"
            ],
            "image/png": "[encoded data removed]"
          },
          "metadata": {}
        }
      ]
    },
    {
      "cell_type": "markdown",
      "source": [
        "20. Use `.predict()` to generate the model predictions using the **test dataset**\n",
        "\n",
        "\n",
        "- Put all text validation data in **X_test** variable\n",
        "\n",
        "- Convert **X_test** to its numerical form.\n",
        "\n",
        "- Put the converted data to **X_test_transformed**\n",
        "\n",
        "- Put all predictions in **y_test_pred** variable"
      ],
      "metadata": {
        "id": "551pFLGwjJq5"
      }
    },
    {
      "cell_type": "code",
      "source": [
        "# put your answer here\n",
        "X_test = df_test['text']\n",
        "X_test_transformed = vectorizer.transform(X_test)\n",
        "y_test_pred = model.predict(X_test_transformed)"
      ],
      "metadata": {
        "id": "PGAop3xvjZo6"
      },
      "execution_count": 423,
      "outputs": []
    },
    {
      "cell_type": "markdown",
      "source": [
        "21. Get the Accuracy, Precision, Recall and F1-Score of the model using the **test dataset**\n",
        "\n",
        "- Put all test data labels in **y_validation** variable\n",
        "\n"
      ],
      "metadata": {
        "id": "WYA239MGjZ-0"
      }
    },
    {
      "cell_type": "code",
      "source": [
        "# put your answer here\n",
        "y_test = df_test['label']\n",
        "print(classification_report(y_test, y_test_pred))"
      ],
      "metadata": {
        "id": "cbEG7T4Gjfje",
        "colab": {
          "base_uri": "https://localhost:8080/"
        },
        "outputId": "ad3535ca-f8fd-4b14-a34b-e89206bdba4c"
      },
      "execution_count": 424,
      "outputs": [
        {
          "output_type": "stream",
          "name": "stdout",
          "text": [
            "              precision    recall  f1-score   support\n",
            "\n",
            "           0       0.86      0.77      0.81      1412\n",
            "           1       0.79      0.87      0.83      1398\n",
            "\n",
            "    accuracy                           0.82      2810\n",
            "   macro avg       0.82      0.82      0.82      2810\n",
            "weighted avg       0.82      0.82      0.82      2810\n",
            "\n"
          ]
        }
      ]
    },
    {
      "cell_type": "markdown",
      "source": [
        "22. Create a confusion matrix using the **test dataset**"
      ],
      "metadata": {
        "id": "aA5_85ZXjgaz"
      }
    },
    {
      "cell_type": "code",
      "source": [
        "# put your answer here\n",
        "cm = confusion_matrix(y_test, y_test_pred)\n",
        "\n",
        "disp = ConfusionMatrixDisplay(confusion_matrix=cm, display_labels=model.classes_)\n",
        "disp.plot()\n",
        "plt.show()"
      ],
      "metadata": {
        "id": "BklrKazHji3L",
        "colab": {
          "base_uri": "https://localhost:8080/",
          "height": 450
        },
        "outputId": "8e8eb3de-8f52-4c3b-8e59-43dd69d85a4c"
      },
      "execution_count": 425,
      "outputs": [
        {
          "output_type": "display_data",
          "data": {
            "text/plain": [
              "<Figure size 640x480 with 2 Axes>"
            ],
            "image/png": "[encoded data removed]"
          },
          "metadata": {}
        }
      ]
    },
    {
      "cell_type": "markdown",
      "source": [
        "## E. Test the model"
      ],
      "metadata": {
        "id": "yXT84y4upMOT"
      }
    },
    {
      "cell_type": "markdown",
      "source": [
        "23. Test the model by providing a non-hate speech input. The model should predict it as 0"
      ],
      "metadata": {
        "id": "FYtlFiBkpQHx"
      }
    },
    {
      "cell_type": "code",
      "source": [
        "# put your answer here\n",
        "input_text = pd.Series(\"How are you\")\n",
        "input_text_transform = vectorizer.transform(input_text)\n",
        "prediction = model.predict(input_text_transform)\n",
        "prediction"
      ],
      "metadata": {
        "id": "UlzOfYeBpgTH",
        "colab": {
          "base_uri": "https://localhost:8080/"
        },
        "outputId": "08c6155c-5fd0-40f1-bcb8-05108a92a02f"
      },
      "execution_count": 426,
      "outputs": [
        {
          "output_type": "execute_result",
          "data": {
            "text/plain": [
              "array([0])"
            ]
          },
          "metadata": {},
          "execution_count": 426
        }
      ]
    },
    {
      "cell_type": "markdown",
      "source": [
        "24. Test the model by providing a hate speech input. The model should predict it as 1"
      ],
      "metadata": {
        "id": "4I9Y0_JiphfC"
      }
    },
    {
      "cell_type": "code",
      "source": [
        "# put your answer here\n",
        "input_text = pd.Series(\"BBM\")\n",
        "input_text_transform = vectorizer.transform(input_text)\n",
        "prediction = model.predict(input_text_transform)\n",
        "prediction"
      ],
      "metadata": {
        "id": "xsMkt3CKphwr",
        "colab": {
          "base_uri": "https://localhost:8080/"
        },
        "outputId": "310cb029-ca7a-415b-d902-1602f3d2e650"
      },
      "execution_count": 427,
      "outputs": [
        {
          "output_type": "execute_result",
          "data": {
            "text/plain": [
              "array([1])"
            ]
          },
          "metadata": {},
          "execution_count": 427
        }
      ]
    },
    {
      "cell_type": "code",
      "source": [
        "#Challenge\n",
        "input_text = pd.Series(\"Ang init ng ulo ko ang gulo gulo ng paligid ang sarap talaga sumigaw ng putangina\")\n",
        "input_text_transform = vectorizer.transform(input_text)\n",
        "prediction = model.predict(input_text_transform)\n",
        "prediction"
      ],
      "metadata": {
        "colab": {
          "base_uri": "https://localhost:8080/"
        },
        "id": "vZTUmdlyyDPl",
        "outputId": "f2f6de87-7a11-4a55-cabf-2aabd59f9160"
      },
      "execution_count": 428,
      "outputs": [
        {
          "output_type": "execute_result",
          "data": {
            "text/plain": [
              "array([1])"
            ]
          },
          "metadata": {},
          "execution_count": 428
        }
      ]
    },
    {
      "cell_type": "code",
      "source": [],
      "metadata": {
        "id": "0pssDjPV-lE5"
      },
      "execution_count": 428,
      "outputs": []
    }
  ]
}